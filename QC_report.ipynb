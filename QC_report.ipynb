{
 "cells": [
  {
   "cell_type": "markdown",
   "id": "a1c8f28f-2fe0-409a-859b-a6b3df0ead73",
   "metadata": {},
   "source": [
    "# QC Report "
   ]
  },
  {
   "cell_type": "markdown",
   "id": "9bb86b14-24d2-4664-92be-4dd0b037e2ad",
   "metadata": {},
   "source": [
    "Inputs \n",
    "- Manifest \n",
    "    - SampleID, SampleType, Batch, Column, Row\n",
    "- Coverage \n",
    "    - SampleID, OutputPostprocessing "
   ]
  },
  {
   "cell_type": "code",
   "execution_count": null,
   "id": "43d8f64a-2814-45c4-a86e-f5b4e42c3bd5",
   "metadata": {},
   "outputs": [],
   "source": [
    "# TODO: Write out notes into the jupyter notebook\n",
    "# TODO: Make an interactive script that people can run through \n",
    "# TODO: Extract out the functions as a package \n",
    "# TODO: Make a script someone could run and just look at a pdf \n",
    "# TODO: Turn this into an R shiny app \n",
    "# TODO: Make sure that it works with multiple plates etc and plots format correctly\n",
    "# TODO: Add option for well instead of row, column\n",
    "# TODO: manifest could be tsv, csv..."
   ]
  },
  {
   "cell_type": "markdown",
   "id": "5b891008-8449-4358-86b8-3858d1096268",
   "metadata": {},
   "source": [
    "## Setup"
   ]
  },
  {
   "cell_type": "code",
   "execution_count": null,
   "id": "9e965407-cc6d-4b7f-a9c0-9459c617f524",
   "metadata": {},
   "outputs": [],
   "source": [
    "# Load necessary libraries\n",
    "library(ggplot2)\n",
    "library(dplyr)\n",
    "library(tidyr)\n",
    "library(ggbeeswarm)\n",
    "library(stringr)"
   ]
  },
  {
   "cell_type": "markdown",
   "id": "8e64e1d1-f3b8-4ff1-b8f5-1bc7565bb4d0",
   "metadata": {},
   "source": [
    "## Load Data  "
   ]
  },
  {
   "cell_type": "code",
   "execution_count": null,
   "id": "f96a777a-3e16-4e18-9efc-75ad156dbdfd",
   "metadata": {},
   "outputs": [],
   "source": [
    "# User input \n",
    "# Input path to results directory from Mad4hatter pipeline\n",
    "results_dir <- \"data/example_mad4hatter_pipeline_output_larger\"\n",
    "# Input path to manifest \n",
    "manifest_file <- \"data/manifest_large_multibatch.csv\" "
   ]
  },
  {
   "cell_type": "code",
   "execution_count": null,
   "id": "e84351ee-7c19-4f8d-8f2a-81b56415c403",
   "metadata": {},
   "outputs": [],
   "source": [
    "# Input a threshold for the reads needed to classify a locus as having 'good' coverage\n",
    "read_threshold <- 100\n",
    "# Input a minimum Reads per ASV used as a filter for the positive control plot\n",
    "x <- 1 \n",
    "# Minimum Allele Frequency per ASV used as a filter for positive control plot \n",
    "y <- 0.2"
   ]
  },
  {
   "cell_type": "code",
   "execution_count": null,
   "id": "858221f3-b0b6-4fef-864e-0e153541d75f",
   "metadata": {},
   "outputs": [],
   "source": [
    "sample_coverage_file <- file.path(results_dir,\"sample_coverage.txt\")\n",
    "amplicon_coverage_file <- file.path(results_dir,\"amplicon_coverage.txt\")\n",
    "allele_data_path <- file.path(results_dir, \"allele_data.txt\")"
   ]
  },
  {
   "cell_type": "code",
   "execution_count": null,
   "id": "ec9d83f0-e79a-4aa7-92c6-393f62ec9057",
   "metadata": {},
   "outputs": [],
   "source": [
    "manifest <- read.csv(manifest_file)\n",
    "sample_coverage <- read.csv(sample_coverage_file, sep=\"\\t\")\n",
    "allele_data <- read.csv(allele_data_path, sep='\\t')"
   ]
  },
  {
   "cell_type": "code",
   "execution_count": null,
   "id": "6e5822c4-14ef-480c-99c8-9165cd4f2adf",
   "metadata": {},
   "outputs": [],
   "source": [
    "# Load coverage per amplicon and add on amplicon length\n",
    "amplicon_coverage = read.delim(amplicon_coverage_file)"
   ]
  },
  {
   "cell_type": "markdown",
   "id": "4b66ba41-ecfa-4365-84a5-261b0986e05c",
   "metadata": {},
   "source": [
    "Files \n",
    "Inputs \n",
    "- manifest \n",
    "    - SampleID, Batch, Row, Column, Parasitemia \n",
    "- sample_coverage \n",
    "    - SampleID, Stage, Reads \n",
    "- amplicon_coverage \n",
    "    - SampleID, Locus, Reads, OutputDada2, OutputPostprocessing\n",
    "- allele_data\n",
    "    - SampleID, Locus, ASV, Reads, PseudoCIGAR\n",
    "    - Used for positive control section\n",
    "\n",
    "Created tables \n",
    "- sample_coverage_with_manifest \n",
    "    - sample coverage, reads made numeric and NA replaced with 0, made wide format and joined with manifest\n",
    "    - used for primer dimer plot\n",
    "- amplicon_coverage_with_manifest \n",
    "    - amplicon coverage merged with manifest\n",
    "    - used for negative control section and to make table below\n",
    "- summary_samples \n",
    "    - made from amplicon_coverage_with_manifest \n",
    "    - splits locus name and takes reaction (pool) from that (reaction1 : 1A+5, reaction2 : 2.)\n",
    "    - groups based on SampleID, batch, sampletype and reaction\n",
    "    - For each it calculates the total reads output from the pipeline for that reaction, the the number with>100 reads\n",
    "    - It calcs the prop of loci for each reaction by dividing by the number of loci in each, this is hardcoded\n",
    "    - Used for balancing plot, but only uses SampleID,Batch,Reads,SampleType\n",
    "    - Used for Amplicons with `good` read depth plot\n",
    "    - Used for parasitemia plot\n",
    "    - Used for plate maps"
   ]
  },
  {
   "cell_type": "markdown",
   "id": "4143fea6-38df-498e-9ad3-26a983139273",
   "metadata": {},
   "source": [
    "## Process input files"
   ]
  },
  {
   "cell_type": "code",
   "execution_count": null,
   "id": "ea886284-4a99-469c-bb01-d982bafbab94",
   "metadata": {},
   "outputs": [],
   "source": [
    "merge_data <- function(manifest, sample_coverage) {\n",
    "    merged_data <- sample_coverage %>%\n",
    "        mutate(Reads = as.numeric(Reads)) %>% \n",
    "        replace_na(list(Reads = 0)) %>%\n",
    "        pivot_wider(names_from = Stage, values_from = Reads) %>%\n",
    "        left_join(manifest, by = \"SampleID\") \n",
    "  \n",
    "    return(merged_data)\n",
    "}"
   ]
  },
  {
   "cell_type": "code",
   "execution_count": null,
   "id": "f47b2a18-7aa7-42dd-93ea-dadedf715ff6",
   "metadata": {},
   "outputs": [],
   "source": [
    "# Reformat sample_coverage and add sample information from manifest \n",
    "sample_coverage_with_manifest <- merge_data(manifest, sample_coverage)"
   ]
  },
  {
   "cell_type": "code",
   "execution_count": null,
   "id": "e2c0b518-f6cc-4da7-83f7-33fff1fcba18",
   "metadata": {},
   "outputs": [],
   "source": [
    "# Add Columns to amplicons to specify experiment, SampleType\n",
    "amplicon_coverage_with_manifest = amplicon_coverage %>%\n",
    "  left_join(manifest,by = c(\"SampleID\"))"
   ]
  },
  {
   "cell_type": "code",
   "execution_count": null,
   "id": "67995bb7-d1a4-4d52-8c5c-57e5205f9844",
   "metadata": {},
   "outputs": [],
   "source": [
    "# Add reaction to amplicon table \n",
    "# reaction here refers to 1 of the 2 mPCR reactions reaction1 : 1A+5, reaction2 : 2.\n",
    "# Note: in future versions of the pipeline this may have to come from the panel information, not the locus name \n",
    "amplicon_coverage_with_manifest <- amplicon_coverage_with_manifest %>%\n",
    "  mutate(reaction = str_extract(Locus, \"\\\\d(?=[A-Z]*$)\"))"
   ]
  },
  {
   "cell_type": "code",
   "execution_count": null,
   "id": "627016cc-1e02-4ac3-8eee-f4600139f911",
   "metadata": {},
   "outputs": [],
   "source": [
    "# Create sample summary stats \n",
    "summary_samples <- amplicon_coverage_with_manifest %>%\n",
    "  # Count unique loci per reaction\n",
    "  group_by(reaction) %>%\n",
    "  mutate(nreactionloci = n_distinct(Locus)) %>%\n",
    "  ungroup() %>%\n",
    "  # Calculate number of loci with reads over threshold per reaction\n",
    "  group_by(SampleID, Batch, SampleType, reaction, nreactionloci) %>%\n",
    "  summarize(\n",
    "    reads_per_reaction = sum(OutputPostprocessing),\n",
    "    n_good_loci = sum(OutputPostprocessing > read_threshold),\n",
    "    .groups = \"drop\"\n",
    "  ) %>%\n",
    "    group_by(SampleID, Batch, SampleType) %>%\n",
    "      mutate(\n",
    "        reads_per_sample = sum(reads_per_reaction),\n",
    "        # n100 = sum(n100.reaction),\n",
    "        # n10 = sum(n10.reaction)\n",
    "      ) %>%\n",
    "  ungroup() %>%\n",
    "  mutate(prop_good_loci = n_good_loci / nreactionloci) %>%\n",
    "  left_join(manifest, by = join_by(SampleID, Batch, SampleType))"
   ]
  },
  {
   "cell_type": "markdown",
   "id": "b5af96c6-15ef-45de-8867-68d450d9be3c",
   "metadata": {},
   "source": [
    "## Plotting Setup"
   ]
  },
  {
   "cell_type": "code",
   "execution_count": null,
   "id": "611a5448-e262-4b5e-83f9-6c0fce90631e",
   "metadata": {},
   "outputs": [],
   "source": [
    "sample_colours <- c(\n",
    "  \"negative\" = \"red3\",\n",
    "  \"positive\" = \"blue3\",\n",
    "  \"sample\" = \"darkgrey\",\n",
    "  \"NA\" = \"white\"\n",
    ")"
   ]
  },
  {
   "cell_type": "markdown",
   "id": "a47051bd-8e27-4913-9505-b11cc670379f",
   "metadata": {},
   "source": [
    "## Primer Dimer Plot "
   ]
  },
  {
   "cell_type": "code",
   "execution_count": null,
   "id": "7b174d44-f2a7-4fd5-b5f8-aa7f9660d5de",
   "metadata": {},
   "outputs": [],
   "source": [
    "# Function to generate the plot\n",
    "generate_dimer_plot <- function(sample_coverage_with_manifest, sample_colours) {\n",
    "    dimer_plot <- ggplot(data = sample_coverage_with_manifest) +\n",
    "      # Plot points with different colors for each sample type\n",
    "      geom_point(aes(x = Input + 0.9, \n",
    "                     y = (1 - OutputPostprocessing / Input) * 100, \n",
    "                     color = SampleType),\n",
    "                 stroke = 1) +\n",
    "    # Log scale for the x-axis\n",
    "    scale_x_log10() +\n",
    "    # Faceting by Batch column\n",
    "    facet_wrap(~Batch) +\n",
    "    # Adding labels and title\n",
    "    ylab(\"% Dimers\") +\n",
    "    xlab(\"Input Reads\") +\n",
    "    ggtitle(\"Dimer Content\")+\n",
    "    # Color scale for SampleType\n",
    "    scale_color_manual(values = sample_colours) \n",
    "    print(dimer_plot)\n",
    "}"
   ]
  },
  {
   "cell_type": "code",
   "execution_count": null,
   "id": "bc9e1b67-15ff-44eb-bf56-324572df01a8",
   "metadata": {},
   "outputs": [],
   "source": [
    "generate_dimer_plot(sample_coverage_with_manifest, sample_colours)"
   ]
  },
  {
   "cell_type": "markdown",
   "id": "fcc14277-8458-4182-8c26-f0c91a34de08",
   "metadata": {},
   "source": [
    "## Balancing Across Batches \n",
    "\n",
    "* Only include if there are multiple experiments\n",
    "* using postprocessing reads\n",
    "* experiment means plate/batch (Group of samples processed at same time by same person -> pooled)"
   ]
  },
  {
   "cell_type": "code",
   "execution_count": null,
   "id": "1135599d-eb31-4b96-9784-eee3ff6de9bc",
   "metadata": {},
   "outputs": [],
   "source": [
    "generate_balancing_plot <- function(summary_samples, sample_colours) {\n",
    "    balancing_plot <- ggplot() + ggbeeswarm::geom_quasirandom(\n",
    "        data = summary_samples %>% \n",
    "        select(SampleID,Batch,reads_per_sample,SampleType) %>% \n",
    "        distinct(), \n",
    "        aes(x=Batch,y=reads_per_sample+0.9,color=SampleType))+\n",
    "    scale_y_log10()+\n",
    "    scale_color_manual(values = sample_colours) \n",
    "    ggtitle(\"Balancing Across Batches\")\n",
    "    print(balancing_plot)\n",
    "}"
   ]
  },
  {
   "cell_type": "code",
   "execution_count": null,
   "id": "4fca5327-45b6-45f4-9333-658f803de8b0",
   "metadata": {},
   "outputs": [],
   "source": [
    "generate_balancing_plot(summary_samples, sample_colours)"
   ]
  },
  {
   "cell_type": "markdown",
   "id": "9d30a87f-7176-46b2-8820-a84670160c0c",
   "metadata": {},
   "source": [
    "## Amplicon Total reads v. number of targets that successfully amplified (e.g. >100 reads)\n",
    "TODO: over 100 reads should be changed to a threshold that someone can set/ change\n",
    "TODO: the reaction/pool needs to be fixed here. Could be pulled from panel information\n",
    "* split by batch and pool\n",
    "* colour controls\n",
    "* Remove species loci \n",
    "* 2 thresholds set for reprep and repool - should be able to change and add these to the plot  \n",
    "* output table with samples that failed for each category. Include total reads for rebalancing\n",
    "\n",
    "List of samples to reprep/ repool \n",
    "* 50-75 repool \n",
    "* <50 reprep \n",
    "* Filters are done by each pool - table of which samples failed for which pools\n",
    "* Include number of reads so you can rebalance what you put into next run"
   ]
  },
  {
   "cell_type": "code",
   "execution_count": null,
   "id": "26c7fbd5-0dc5-43bf-8276-fb0a51f0c6ba",
   "metadata": {},
   "outputs": [],
   "source": [
    "# Function to generate the plot\n",
    "generate_reads_by_amplification_success_plot <- function(summary_samples, threshold, sample_colours) {\n",
    "    amp_plot <- ggplot(data = summary_samples) +\n",
    "      # Plot points with different colors for each sample type\n",
    "      geom_point(aes(x = reads_per_sample + 0.9, \n",
    "                     y = n_good_loci, \n",
    "                     color = SampleType),\n",
    "                 stroke = 1) +\n",
    "    # Log scale for the x-axis\n",
    "    scale_x_log10() +\n",
    "    # Faceting by Batch column\n",
    "    facet_grid(cols = vars(Batch),rows = vars(reaction),\n",
    "               scale = \"free_y\")+\n",
    "    # Adding labels and title\n",
    "    ylab(paste0(\"Amplicons with >\",threshold,\" reads\")) +\n",
    "    xlab(\"Total Reads for Sample\") +\n",
    "    theme(axis.text.x = element_text(angle = 90, hjust = 1))+\n",
    "\n",
    "    ggtitle(\"Amplicons with `good` read depth\")+\n",
    "    # Color scale for SampleType\n",
    "    scale_color_manual(values = sample_colours) \n",
    "    print(amp_plot)\n",
    "}"
   ]
  },
  {
   "cell_type": "code",
   "execution_count": null,
   "id": "12bd89b6-b87e-4d9b-b5a1-d5a505e19ccf",
   "metadata": {},
   "outputs": [],
   "source": [
    "generate_reads_by_amplification_success_plot(summary_samples, read_threshold, sample_colours)"
   ]
  },
  {
   "cell_type": "markdown",
   "id": "568ba4a4-22ae-406b-a244-260140acccad",
   "metadata": {},
   "source": [
    "## Parasitemia \n",
    "* Only include if parasitemia is in the manifest \n",
    "* parasitemia v. loci > 100 reads (should be interactive threshold)\n",
    "* coloured by batch"
   ]
  },
  {
   "cell_type": "code",
   "execution_count": null,
   "id": "027e84cc-5531-4359-9e44-c85a1a90e69a",
   "metadata": {},
   "outputs": [],
   "source": [
    "# Function to generate the plot\n",
    "generate_parasitemia_by_amplification_success_plot <- function(summary_samples, threshold, sample_colours) {\n",
    "    parasitemia_plot <- ggplot(data = summary_samples) +\n",
    "      # Plot points with different colors for each sample type\n",
    "      geom_point(aes(x = Parasitemia + 0.9, \n",
    "                     y = n_good_loci, \n",
    "                     color = SampleType),\n",
    "                 stroke = 1) +\n",
    "    # Log scale for the x-axis\n",
    "    scale_x_log10() +\n",
    "    # Faceting by Batch column\n",
    "    facet_grid(cols = vars(Batch),rows = vars(reaction),\n",
    "               scale = \"free_y\")+\n",
    "    # Adding labels and title\n",
    "    ylab(paste0(\"Amplicons with >\",threshold,\" reads\")) +\n",
    "    xlab(\"Parasitemia (log10)\") +\n",
    "    theme(axis.text.x = element_text(angle = 90, hjust = 1))+\n",
    "\n",
    "    ggtitle(\"Amplicons with `good` read depth\")+\n",
    "    # Color scale for SampleType\n",
    "    scale_color_manual(values = sample_colours) \n",
    "    print(parasitemia_plot)\n",
    "}"
   ]
  },
  {
   "cell_type": "code",
   "execution_count": null,
   "id": "01c01740-f2e0-47a6-bc35-df646b67fabe",
   "metadata": {},
   "outputs": [],
   "source": [
    "generate_parasitemia_by_amplification_success_plot(summary_samples, read_threshold, sample_colours)"
   ]
  },
  {
   "cell_type": "markdown",
   "id": "6ae84c07-93e2-49b4-b588-14746bf31bb7",
   "metadata": {},
   "source": [
    "## Maps \n",
    "### Plate layouts by batch - well or row and column "
   ]
  },
  {
   "cell_type": "code",
   "execution_count": null,
   "id": "70d5b6dc-1023-4a67-9eb0-921fc855a3b2",
   "metadata": {},
   "outputs": [],
   "source": [
    "create_plate_template <- function(batches, nrows=8, ncols=12) {\n",
    "    quadrants <-\n",
    "      expand.grid(\n",
    "        Batch = batches,\n",
    "        y = 1:nrows,\n",
    "        x = 1:ncols\n",
    "      ) %>%\n",
    "      mutate(\n",
    "        ymin = y - 0.45,\n",
    "        ymax = y + 0.45,\n",
    "        xmin = x - 0.45,\n",
    "        xmax = x + 0.45\n",
    "      ) %>%\n",
    "      mutate(Row = rev(letters[1:nrows])[y]) %>%\n",
    "      left_join(\n",
    "        summary_samples %>%  select(Batch, Column, Row, SampleType) %>% distinct(),\n",
    "        by = c(\"Batch\", \"x\" = \"Column\", \"Row\" = \"Row\")\n",
    "      )\n",
    "    return(quadrants)\n",
    "}"
   ]
  },
  {
   "cell_type": "code",
   "execution_count": null,
   "id": "80874960-24a2-4db8-83d9-eca28cebcab4",
   "metadata": {},
   "outputs": [],
   "source": [
    "quadrants <- create_plate_template(unique(summary_samples$Batch))"
   ]
  },
  {
   "cell_type": "code",
   "execution_count": null,
   "id": "b44be002-3aac-47f4-bfb0-3c326ec3a42c",
   "metadata": {},
   "outputs": [],
   "source": [
    "plot_plate_layout <- function(summary_samples, sample_colours) {\n",
    "    plate_layout <- ggplot(summary_samples) +\n",
    "      # Tiles representing sample types, fill based on SampleType\n",
    "      geom_tile(aes(x = Column, y = Row, fill = SampleType), color = \"white\") +\n",
    "      # Facet by Batch\n",
    "      facet_wrap(vars(Batch), scales = \"free\", ncol = 1) +\n",
    "      # Quadrants as rectangles with borders\n",
    "      geom_rect(\n",
    "        data = quadrants,\n",
    "        aes(xmin = xmin, xmax = xmax, ymin = ymin, ymax = ymax),\n",
    "        color = \"black\", fill = NA, linewidth = 1\n",
    "      ) +\n",
    "      # Customizing the x-axis\n",
    "      scale_x_continuous(breaks = 1:12, labels = as.character(1:12)) +\n",
    "    \n",
    "      # Custom fill colors for each SampleType\n",
    "      scale_fill_manual(\n",
    "        values = sample_colours\n",
    "      ) +\n",
    "      # Theming\n",
    "      theme_minimal() +\n",
    "      theme(\n",
    "        axis.text = element_text(size = 12),  \n",
    "        strip.text = element_text(size = 14, face = \"bold\"), \n",
    "        panel.grid = element_blank(),  \n",
    "        plot.title = element_text(size = 16, face = \"bold\", hjust = 0.5),\n",
    "      ) +\n",
    "      # Title for the plot\n",
    "    ggtitle(\"Sample Types and Quadrants Distribution by Batch\")\n",
    "    print(plate_layout)\n",
    "}"
   ]
  },
  {
   "cell_type": "code",
   "execution_count": null,
   "id": "ead7a682-fed9-43ac-a5c3-f3ab85acc749",
   "metadata": {},
   "outputs": [],
   "source": [
    "plot_plate_layout(summary_samples, sample_colours)"
   ]
  },
  {
   "cell_type": "markdown",
   "id": "aa3b800b-22e9-4020-b19c-3e2aae45868e",
   "metadata": {},
   "source": [
    "### Total number of reads per reaction per plate - log scale "
   ]
  },
  {
   "cell_type": "code",
   "execution_count": null,
   "id": "28efd023-0118-4b7e-9a43-ad7f0cb2a60f",
   "metadata": {},
   "outputs": [],
   "source": [
    "plot_plate_with_feature <- function(summary_samples, sample_colours, fill_param, scale_midpoint) {\n",
    "    plate_heatmap <- ggplot(summary_samples) +\n",
    "      geom_tile(aes(\n",
    "        x = Column,\n",
    "        y = Row,\n",
    "        fill = !!rlang::parse_expr(fill_param),\n",
    "        color = SampleType  # Add color aesthetic for SampleType\n",
    "      ), linewidth = 1.2) +  # Adjust size for outline thickness\n",
    "    \n",
    "      scale_fill_gradient2(\n",
    "        low = \"black\",\n",
    "        mid = \"darkorange4\",\n",
    "        high = \"darkorange\",\n",
    "        midpoint = scale_midpoint,\n",
    "        name = \"log10(reads)\"\n",
    "      ) +\n",
    "      scale_color_manual(\n",
    "          values = sample_colours\n",
    "        ) + \n",
    "      facet_grid(rows = vars(reaction), cols = vars(Batch)) +\n",
    "      geom_rect(\n",
    "        data = quadrants,\n",
    "        aes(\n",
    "          xmin = xmin,\n",
    "          xmax = xmax,\n",
    "          ymin = ymin,\n",
    "          ymax = ymax,\n",
    "        ),\n",
    "        fill = NA,\n",
    "        linewidth = 0.3,\n",
    "        color = \"black\"\n",
    "      ) +\n",
    "\n",
    "        # Theming\n",
    "          theme_minimal() +\n",
    "          theme(\n",
    "            axis.text = element_text(size = 12),  \n",
    "            strip.text = element_text(size = 14, face = \"bold\"), \n",
    "            panel.grid = element_blank(),  \n",
    "            plot.title = element_text(size = 16, face = \"bold\", hjust = 0.5),\n",
    "          ) +\n",
    "      theme(legend.position = \"bottom\", aspect.ratio = 0.66)\n",
    "    print(plate_heatmap)\n",
    "}"
   ]
  },
  {
   "cell_type": "code",
   "execution_count": null,
   "id": "c92e3037-2488-453f-bcb5-48b7139cf4cf",
   "metadata": {},
   "outputs": [],
   "source": [
    "plot_plate_with_feature(summary_samples, sample_colours, \"log10(reads_per_reaction + 0.1)\", 2)"
   ]
  },
  {
   "cell_type": "markdown",
   "id": "b1731a01-970c-4ea7-8f2b-d1e62e851674",
   "metadata": {},
   "source": [
    "### Number of amplicons with >100 reads (0-1)"
   ]
  },
  {
   "cell_type": "code",
   "execution_count": null,
   "id": "fcea501b-9dcb-4031-8a51-c20b385f6324",
   "metadata": {},
   "outputs": [],
   "source": [
    "plot_plate_with_feature(summary_samples, sample_colours, \"prop_good_loci\", 0.5)"
   ]
  },
  {
   "cell_type": "markdown",
   "id": "df85fa94-3c7f-4cfe-b1ba-72f33532e6cc",
   "metadata": {},
   "source": [
    "## Positive Controls \n",
    "* are pos controls polyclonal\n",
    "* x=sample, y=nlocus colour by mono and poly\n",
    "* bottom right slide 14\n",
    "* allow filter to be added  "
   ]
  },
  {
   "cell_type": "code",
   "execution_count": null,
   "id": "261f48a2-5144-4186-96f6-bf26c21938fd",
   "metadata": {},
   "outputs": [],
   "source": [
    "# Add on within sample allele freqeucny \n",
    "allele_data <- allele_data %>%\n",
    "  group_by(SampleID, Locus) %>%\n",
    "  mutate(AlleleFreq = Reads / sum(Reads)) %>%\n",
    "  ungroup()"
   ]
  },
  {
   "cell_type": "code",
   "execution_count": null,
   "id": "b7491fb5-6241-4be6-bdae-ce53af880afe",
   "metadata": {},
   "outputs": [],
   "source": [
    "pos_control_allele_data <- allele_data %>%\n",
    "  inner_join(manifest %>% filter(SampleType == \"positive\"), by = \"SampleID\")"
   ]
  },
  {
   "cell_type": "code",
   "execution_count": null,
   "id": "69c996eb-45df-4767-93e5-e2b16f5f036b",
   "metadata": {},
   "outputs": [],
   "source": [
    "# Define allele_col\n",
    "allele_col <- \"PseudoCIGAR\"  # This can be changed dynamically\n",
    "\n",
    "if (allele_col==\"PseudoCIGAR\") {\n",
    "  pos_control_data <- pos_control_allele_data %>%\n",
    "      group_by(SampleID, Locus, PseudoCIGAR) %>%\n",
    "      summarise(Reads = sum(Reads), AlleleFreq = sum(AlleleFreq), .groups = \"drop\")\n",
    "} else {\n",
    "  pos_control_data <- pos_control_allele_data\n",
    "}"
   ]
  },
  {
   "cell_type": "code",
   "execution_count": null,
   "id": "fc796e19-f61b-4dce-bc81-09ea512e877b",
   "metadata": {},
   "outputs": [],
   "source": [
    "# Define thresholds\n",
    "# Identify ASVs meeting both thresholds\n",
    "locus_summary <- pos_control_data %>%\n",
    "  group_by(SampleID, Locus) %>%\n",
    "  summarise(\n",
    "    NumASVs_Meeting_Threshold = sum(Reads > x & AlleleFreq > y),\n",
    "    .groups = \"drop\"\n",
    "  ) %>%\n",
    "  mutate(Meets_Multi_ASV_Criteria = NumASVs_Meeting_Threshold > 1)\n",
    "\n",
    "# Count loci per sample that meet and don't meet the threshold\n",
    "result <- locus_summary %>%\n",
    "  group_by(SampleID) %>%\n",
    "  summarise(\n",
    "    loci_poly = sum(Meets_Multi_ASV_Criteria),  # Loci with >1 ASV meeting the threshold\n",
    "    loci_mono = sum(!Meets_Multi_ASV_Criteria)  # Loci that don't\n",
    "  ) %>%\n",
    "  pivot_longer(cols = starts_with(\"Loci_\"), names_to = \"Category\", values_to = \"Count\") %>%\n",
    "  mutate(Category = recode(Category, \n",
    "                           \"loci_poly\" = \"Polyclonal\", \n",
    "                           \"loci_mono\" = \"Monoclonal\"))\n",
    "\n",
    "# Create stacked bar plot\n",
    "ggplot(result, aes(x = SampleID, y = Count, fill = Category)) +\n",
    "  geom_bar(stat = \"identity\", position = \"stack\") +\n",
    "  labs(title = \"Clonality of Loci for Positive Controls\", x = \"Sample ID\", y = \"Number of Loci\") +\n",
    "  theme_minimal() +\n",
    "  scale_fill_manual(values = c(\"Polyclonal\" = \"steelblue\", \"Monoclonal\" = \"gray70\"))\n"
   ]
  },
  {
   "cell_type": "markdown",
   "id": "62571b29-a1fd-4c42-867b-9ec7c68237fc",
   "metadata": {},
   "source": [
    "## Negative Controls \n",
    "* reads per locus per negative control by batch\n",
    "* Overall plot as scatter plot\n",
    "    * reads v. n loci with that n reads\n",
    "    * colour by pool\n",
    "    * split into sep plots for batch\n",
    "    * if any locus for sample has over x reads plot as reads per locus for sample by pool  "
   ]
  },
  {
   "cell_type": "code",
   "execution_count": null,
   "id": "0750d7b7-ef24-4435-8d2e-fc115cabf556",
   "metadata": {},
   "outputs": [],
   "source": [
    "# TODO: colour by pool \n",
    "# TODO: decide on label for x axis \n",
    "# TODO: Only create second plot for samples that had a locus with over x reads at a locus"
   ]
  },
  {
   "cell_type": "code",
   "execution_count": null,
   "id": "8e191da7-c6d8-4082-aa5a-9fb99aa0ae09",
   "metadata": {},
   "outputs": [],
   "source": [
    "# retrieve controls from amplicons.full\n",
    "amplicons_negative = amplicon_coverage_with_manifest %>% \n",
    "  filter(SampleType==\"negative\") %>% \n",
    "  mutate(negative = paste0(Batch,\" Well: \",toupper(Row),Column)) "
   ]
  },
  {
   "cell_type": "code",
   "execution_count": null,
   "id": "e352a0e7-4b2c-4af2-9326-1289bcabe154",
   "metadata": {},
   "outputs": [],
   "source": [
    "ggplot(amplicons_negative) +\n",
    "  geom_histogram(aes(x = OutputPostprocessing))+#, fill = Pool)) +\n",
    "  facet_wrap(~ negative) +\n",
    "  xlim(-ifelse(\n",
    "    max(amplicons_negative$OutputPostprocessing) == 0,\n",
    "    1e2,\n",
    "    max(amplicons_negative$OutputPostprocessing)\n",
    "  ) / 50, ifelse(\n",
    "    max(amplicons_negative$OutputPostprocessing) == 0,\n",
    "    1e2,\n",
    "    max(amplicons_negative$OutputPostprocessing)\n",
    "  )) +\n",
    "  xlab(\"Reads\") +\n",
    "  ylab(\"Count\")"
   ]
  },
  {
   "cell_type": "code",
   "execution_count": null,
   "id": "0cb74727-b092-4d00-bcf2-ce15fe834f96",
   "metadata": {},
   "outputs": [],
   "source": [
    "ggplot(amplicons_negative) +\n",
    "  geom_point(aes(x = Locus, y = Reads)) + #, color = Pool)) +\n",
    "  facet_wrap(~ negative) +\n",
    "  xlab(\"Coordinates\")"
   ]
  },
  {
   "cell_type": "code",
   "execution_count": null,
   "id": "eb76df7f-f177-4d4e-b4e9-12495b32d487",
   "metadata": {},
   "outputs": [],
   "source": []
  },
  {
   "cell_type": "code",
   "execution_count": null,
   "id": "e6048ab8-1568-4ce4-b524-988f5621bd5e",
   "metadata": {},
   "outputs": [],
   "source": []
  }
 ],
 "metadata": {
  "kernelspec": {
   "display_name": "R",
   "language": "R",
   "name": "ir"
  },
  "language_info": {
   "codemirror_mode": "r",
   "file_extension": ".r",
   "mimetype": "text/x-r-source",
   "name": "R",
   "pygments_lexer": "r",
   "version": "4.4.2"
  }
 },
 "nbformat": 4,
 "nbformat_minor": 5
}
