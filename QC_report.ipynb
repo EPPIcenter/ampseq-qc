{
 "cells": [
  {
   "cell_type": "markdown",
   "id": "6508332a-41d1-4941-9b71-86932e766dc6",
   "metadata": {},
   "source": [
    "# QC Report \n",
    "\n",
    "This interactive notebook generates a summary of QC statistics to assess the success of a **Mad4hatter** run. \n",
    "\n",
    "## Required Inputs \n",
    "\n",
    "To proceed, you must provide the **results directory** from the Mad4hatter pipeline, which should include the following files:\n",
    "\n",
    "* **sample_coverage.txt**\n",
    "* **amplicon_coverage.txt**\n",
    "* **allele_data.txt**\n",
    "\n",
    "Additionally, a **sample manifest** is required. This file must contain the following fields:\n",
    "\n",
    "* **SampleID** – Unique identifier for each sample.\n",
    "* **SampleType** – Specifies whether the entry is a **sample**, **positive** control, or **negative** control.\n",
    "* **Batch** – Identifies a group of samples processed simultaneously by the same individual.\n",
    "* **Column** – The well column where the sample was placed in the plate.\n",
    "* **Row** – The well row where the sample was placed in the plate.\n",
    "* **Parasitemia** – The qPCR value for the sample.\n",
    "\n",
    "## QC Summaries\n",
    "The notebook provides the following analyses:\n",
    "\n",
    "* **Plate Layout**: Location of samples and controls on the plate\n",
    "* **Primer Dimer Content**: Input reads vs. % attributed to primer dimers \n",
    "* **Balancing Across Batches**: Swarm plot of reads output by the pipeline by batch\n",
    "* **Control Summary**, including:  \n",
    "    * Polyclonality of Positive Controls\n",
    "    * Read Summary for Negative Controls\n",
    "    * Contamination Maps for Negative Controls\n",
    "* **Successul Amplification** summary, including:\n",
    "    * Sample Reads vs. Number of Successfully Amplified Loci\n",
    "    * Parasitemia vs. Number of Successfully Amplified Loci\n",
    "* **Amplification Plate Maps**, including:\n",
    "    * Reads Heatmap\n",
    "    * Successful Amplification Heatmap\n",
    " \n",
    "      \n",
    "Note: A locus is considered successfully amplified if it has more than `read_threshold` reads, where `read_threshold` is a threshold that can be set below."
   ]
  },
  {
   "cell_type": "markdown",
   "id": "a4a3c16e-7ffe-4e3e-b8b9-a9f3c1acc03a",
   "metadata": {},
   "source": [
    "## Setup"
   ]
  },
  {
   "cell_type": "code",
   "execution_count": null,
   "id": "f96a777a-3e16-4e18-9efc-75ad156dbdfd",
   "metadata": {},
   "outputs": [],
   "source": [
    "# User input \n",
    "# Input path to results directory from Mad4hatter pipeline\n",
    "results_dir <- \"PATH/TO/MAD4HATTER_RESULTS_DIR/\"\n",
    "# Input path to manifest \n",
    "manifest_file <- \"PATH/TO/MANIFEST\"\n",
    "# Path to outputs\n",
    "reprep_repool_summary_path <- \"reprep_repool_summary.csv\"\n",
    "polyclonal_information_path <- \"positive_control_polyclonal_info.csv\"\n",
    "neg_control_information_path <- \"negative_control_amplified_loci.csv\"\n",
    "filtered_allele_data_path <- \"allele_data_filtered.txt\""
   ]
  },
  {
   "cell_type": "code",
   "execution_count": null,
   "id": "e84351ee-7c19-4f8d-8f2a-81b56415c403",
   "metadata": {},
   "outputs": [],
   "source": [
    "# If TRUE, trims extra sequencing-related information from SampleID to match the manifest format\n",
    "standardise_sampleID <- TRUE\n",
    "# Input a threshold for the reads needed to classify a locus as having amplified successfully\n",
    "read_threshold <- 100\n",
    "# Input a minimum Reads per ASV used as a filter for the positive control plot\n",
    "read_filter <- 0 \n",
    "# Minimum Allele Frequency per ASV used as a filter for positive control plot \n",
    "af_filter <- 0.01 \n",
    "# Read threshold to output locus information for negative control\n",
    "negative_control_read_threshold <- 50 \n",
    "# Proportion of targets successfully amplified; samples below this threshold require re-prep\n",
    "reprep_threshold <- 0.5 \n",
    "# Proportion of targets successfully amplified; samples below this threshold require re-pool\n",
    "repool_threshold <- 0.75\n",
    "# This column indicates the one to be used for an allele ID, either ASV or PseudoCIGAR. \n",
    "# If PseudoCIGAR, the table will be collapsed to unique PseudoCIGARs.\n",
    "allele_col <- \"PseudoCIGAR\""
   ]
  },
  {
   "cell_type": "code",
   "execution_count": null,
   "id": "219ff886-699d-46f3-be89-6f62da957604",
   "metadata": {},
   "outputs": [],
   "source": [
    "# Print summary of user inputs\n",
    "cat(\"User Input Summary\\n\")\n",
    "cat(\"Results Directory:\", results_dir, \"\\n\")\n",
    "cat(\"Manifest File:\", manifest_file, \"\\n\")\n",
    "cat(\"Read Threshold for Successful Amplification:\", read_threshold, \"\\n\")\n",
    "cat(\"Minimum Reads per ASV (Positive Control Filter):\", read_filter, \"\\n\")\n",
    "cat(\"Minimum Allele Frequency per ASV (Positive Control Filter):\", af_filter, \"\\n\")"
   ]
  },
  {
   "cell_type": "code",
   "execution_count": null,
   "id": "858221f3-b0b6-4fef-864e-0e153541d75f",
   "metadata": {},
   "outputs": [],
   "source": [
    "# Create file paths \n",
    "sample_coverage_file <- file.path(results_dir,\"sample_coverage.txt\")\n",
    "amplicon_coverage_file <- file.path(results_dir,\"amplicon_coverage.txt\")\n",
    "allele_data_path <- file.path(results_dir, \"allele_data.txt\")"
   ]
  },
  {
   "cell_type": "code",
   "execution_count": null,
   "id": "9e965407-cc6d-4b7f-a9c0-9459c617f524",
   "metadata": {},
   "outputs": [],
   "source": [
    "# Load necessary libraries\n",
    "library(ggplot2)\n",
    "library(plotly, quietly = TRUE,warn.conflicts = FALSE)\n",
    "library(dplyr, quietly = TRUE,warn.conflicts = FALSE)\n",
    "library(tidyr)\n",
    "library(ggbeeswarm)\n",
    "library(stringr)\n",
    "library(tibble)\n",
    "library(kableExtra, quietly = TRUE, warn.conflicts = FALSE)"
   ]
  },
  {
   "cell_type": "code",
   "execution_count": null,
   "id": "ec9d83f0-e79a-4aa7-92c6-393f62ec9057",
   "metadata": {},
   "outputs": [],
   "source": [
    "manifest <- read.csv(manifest_file) %>% mutate(Row = toupper(Row)) # Ensure Row is capitalised\n",
    "sample_coverage <- read.csv(sample_coverage_file, sep=\"\\t\")\n",
    "allele_data <- read.csv(allele_data_path, sep='\\t')"
   ]
  },
  {
   "cell_type": "code",
   "execution_count": null,
   "id": "6e5822c4-14ef-480c-99c8-9165cd4f2adf",
   "metadata": {},
   "outputs": [],
   "source": [
    "# Load coverage per amplicon and add on amplicon length\n",
    "amplicon_coverage <- read.delim(amplicon_coverage_file)"
   ]
  },
  {
   "cell_type": "code",
   "execution_count": null,
   "id": "6f05366a-2e59-4144-9503-a2460e4f215d",
   "metadata": {},
   "outputs": [],
   "source": [
    "amplicon_coverage <- amplicon_coverage %>%\n",
    "  mutate(SampleID = if (standardise_sampleID) SampleID %>%\n",
    "           sub(\"_L001$\", \"\", .) %>%\n",
    "           word(., start = 1, end = -2, sep = \"_\") else SampleID)\n",
    "allele_data <- allele_data %>%\n",
    "  mutate(SampleID = if (standardise_sampleID) SampleID %>%\n",
    "           sub(\"_L001$\", \"\", .) %>%\n",
    "           word(., start = 1, end = -2, sep = \"_\") else SampleID)"
   ]
  },
  {
   "cell_type": "markdown",
   "id": "43dbaca5-d385-4a4e-a9b8-7b8c451e7b2a",
   "metadata": {},
   "source": [
    "Here we filter out two types of loci:\n",
    "\n",
    "* **Loci targeting non-Plasmodium falciparum species**, which are expected to amplify only if other species are present.\n",
    "\n",
    "* **Long amplicons (>275 bp, including primers)**, which tend to underperform due to their length.\n",
    "\n",
    "These loci should not be considered when assessing the success of a sequencing run.\n",
    "\n",
    "**Note**: If you modify the filtered loci, be sure to update the loci counts below accordingly."
   ]
  },
  {
   "cell_type": "code",
   "execution_count": null,
   "id": "3e93ea36-7b54-4a0f-b4c5-3d870e17bf39",
   "metadata": {},
   "outputs": [],
   "source": [
    "# Species Loci\n",
    "species_loci <- c('Pf3D7_13_v3-1041593-1041860-1AB',\n",
    "                'PmUG01_12_v1-1397996-1398245-1AB',\n",
    "                'PocGH01_12_v1-1106456-1106697-1AB',\n",
    "                'PvP01_12_v1-1184983-1185208-1AB',\n",
    "                'PKNH_12_v2-198869-199113-1AB')\n",
    "# Long loci \n",
    "long_loci <- c('Pf3D7_14_v3-854128-854427-1B',\n",
    "                'Pf3D7_11_v3-1294284-1294580-1B',\n",
    "                'Pf3D7_13_v3-1465010-1465307-1B',\n",
    "                'Pf3D7_13_v3-2841390-2841688-1B2',\n",
    "                'Pf3D7_13_v3-2844334-2844629-1B2',\n",
    "                'Pf3D7_02_v3-320652-320949-2',\n",
    "                'Pf3D7_03_v3-240957-241256-2',\n",
    "                'Pf3D7_05_v3-615379-615678-2',\n",
    "                'Pf3D7_06_v3-857454-857753-2')\n",
    "\n",
    "# Combine into a list of all excluded loci\n",
    "excluded_loci <- c(species_loci, long_loci)\n",
    "\n",
    "# Filter amplicon_coverage to exclude rows with loci in the exclusion list\n",
    "amplicon_coverage <- amplicon_coverage[!amplicon_coverage$Locus %in% excluded_loci, ]\n",
    "\n",
    "# Filter allele_data to exclude rows with loci in the exclusion list\n",
    "allele_data <- allele_data[!allele_data$Locus %in% excluded_loci, ]"
   ]
  },
  {
   "cell_type": "markdown",
   "id": "c6c54030-ff13-4cbb-99f2-94cb14536bea",
   "metadata": {},
   "source": [
    "Below are the loci counts per reaction, set with the expectation that you are running **Madh4hatter pools D1.1, R1.2, and R2.1.**. The loci we filtered out above are excluded from these counts. \n",
    "\n",
    "* If you are **not** using these pools, please update these numbers manually.\n",
    "* Alternatively, you can uncomment the section below to calculate loci counts directly from the `allele_table`. **Note:** If a locus fails to amplify in all samples, it will not be included in the counts when derived from the `allele_table`."
   ]
  },
  {
   "cell_type": "code",
   "execution_count": null,
   "id": "cd68ea04-1814-458d-9179-b6d301358c67",
   "metadata": {},
   "outputs": [],
   "source": [
    "# D1.1 has 170 loci in total. 5 are removed above\n",
    "pool_d1.1_loci <- 165\n",
    "# R1.2 has 48 loci in total. 8 are removed above\n",
    "pool_r1.2_loci <- 40\n",
    "# R2.1 has 31 loci in total. 6 are removed above\n",
    "pool_r2.1_loci <- 25\n",
    "\n",
    "# Loci per reaction  \n",
    "reaction1_loci <- pool_d1.1_loci + pool_r1.2_loci\n",
    "reaction2_loci <- pool_r2.1_loci\n",
    "\n",
    "# Put into a table\n",
    "nloci_table <- data.frame(\n",
    "  reaction = c('1', '2'),\n",
    "  nreactionloci = c(reaction1_loci, reaction2_loci)\n",
    ")\n",
    "nloci_table"
   ]
  },
  {
   "cell_type": "markdown",
   "id": "0ec0b5d0-9bf2-4bdc-8e73-c2cf6d62e2de",
   "metadata": {},
   "source": [
    "Uncomment the following to count the number of loci per reaction based on the `allele_data` table."
   ]
  },
  {
   "cell_type": "code",
   "execution_count": null,
   "id": "57487db0-5e24-4c3f-aac6-fdcfa2a526e2",
   "metadata": {},
   "outputs": [],
   "source": [
    "# nloci_table <- allele_data %>%\n",
    "#   distinct(Locus) %>% \n",
    "#   mutate(reaction = str_extract(Locus, \"\\\\d(?=[A-Z]*$)\")) %>%\n",
    "#   count(reaction) %>%\n",
    "#   rename(nreactionloci = n) \n",
    "# nloci_table"
   ]
  },
  {
   "cell_type": "code",
   "execution_count": null,
   "id": "ea886284-4a99-469c-bb01-d982bafbab94",
   "metadata": {},
   "outputs": [],
   "source": [
    "merge_data <- function(manifest, sample_coverage, standardise_sampleID) {\n",
    "    merged_data <- sample_coverage %>%\n",
    "        mutate(SampleID = if (standardise_sampleID) SampleID %>%\n",
    "               sub(\"_L001$\", \"\", .) %>%\n",
    "               word(., start = 1, end = -2, sep = \"_\") else SampleID) %>%\n",
    "        mutate(Reads = as.numeric(Reads)) %>% \n",
    "        replace_na(list(Reads = 0)) %>%\n",
    "        pivot_wider(names_from = Stage, values_from = Reads) %>%\n",
    "        inner_join(manifest, by = \"SampleID\") \n",
    "    return(merged_data)\n",
    "}"
   ]
  },
  {
   "cell_type": "code",
   "execution_count": null,
   "id": "f47b2a18-7aa7-42dd-93ea-dadedf715ff6",
   "metadata": {},
   "outputs": [],
   "source": [
    "# Reformat sample_coverage and add sample information from manifest \n",
    "sample_coverage_with_manifest <- merge_data(manifest, sample_coverage, standardise_sampleID)"
   ]
  },
  {
   "cell_type": "code",
   "execution_count": null,
   "id": "e2c0b518-f6cc-4da7-83f7-33fff1fcba18",
   "metadata": {},
   "outputs": [],
   "source": [
    "# Add manifest to amplicon coverage\n",
    "amplicon_coverage_with_manifest <- amplicon_coverage %>%\n",
    "    inner_join(manifest,by = c(\"SampleID\"))"
   ]
  },
  {
   "cell_type": "code",
   "execution_count": null,
   "id": "67995bb7-d1a4-4d52-8c5c-57e5205f9844",
   "metadata": {},
   "outputs": [],
   "source": [
    "# Add reaction to amplicon table \n",
    "# reaction here refers to 1 of the 2 mPCR reactions reaction1 : 1A+5, reaction2 : 2.\n",
    "# Note: in future versions of the pipeline this may have to come from the panel information, not the locus name \n",
    "amplicon_coverage_with_manifest <- amplicon_coverage_with_manifest %>%\n",
    "  mutate(reaction = str_extract(Locus, \"\\\\d(?=[A-Z]*$)\"))"
   ]
  },
  {
   "cell_type": "code",
   "execution_count": null,
   "id": "627016cc-1e02-4ac3-8eee-f4600139f911",
   "metadata": {},
   "outputs": [],
   "source": [
    "# Create sample summary stats \n",
    "summary_samples <- amplicon_coverage_with_manifest %>%\n",
    "  # Join the nloci_table\n",
    "  left_join(nloci_table, by = \"reaction\") %>%\n",
    "  # Calculate number of loci with reads over threshold per reaction\n",
    "  group_by(SampleID, Batch, SampleType, reaction, nreactionloci) %>%\n",
    "  summarize(\n",
    "    reads_per_reaction = sum(OutputPostprocessing),\n",
    "    n_good_loci = sum(OutputPostprocessing > read_threshold),\n",
    "    .groups = \"drop\"\n",
    "  ) %>%\n",
    "    group_by(SampleID, Batch, SampleType) %>%\n",
    "      mutate(\n",
    "        reads_per_sample = sum(reads_per_reaction),\n",
    "      ) %>%\n",
    "  ungroup() %>%\n",
    "  mutate(prop_good_loci = n_good_loci / nreactionloci) %>%\n",
    "  inner_join(manifest, by = join_by(SampleID, Batch, SampleType))"
   ]
  },
  {
   "cell_type": "code",
   "execution_count": null,
   "id": "611a5448-e262-4b5e-83f9-6c0fce90631e",
   "metadata": {},
   "outputs": [],
   "source": [
    "# Plotting Setup\n",
    "sample_colours <- c(\n",
    "  \"negative\" = \"red3\",\n",
    "  \"positive\" = \"blue3\",\n",
    "  \"sample\" = \"darkgrey\",\n",
    "  \"empty\" = \"black\"\n",
    ")"
   ]
  },
  {
   "cell_type": "code",
   "execution_count": null,
   "id": "b4006d8d-b693-4825-bb18-f767a7be5e64",
   "metadata": {},
   "outputs": [],
   "source": [
    "reaction_colours <- c(\"skyblue\", \"orangered2\", \"turqoise3\")"
   ]
  },
  {
   "cell_type": "code",
   "execution_count": null,
   "id": "c6b86af2-6bc3-4524-b99e-e03f6131da3e",
   "metadata": {},
   "outputs": [],
   "source": [
    "# Print summary of samples in files\n",
    "cat(\"Sample Summary\\n\")\n",
    "cat(length(unique(manifest$SampleID)), \"samples in manifest\", \"\\n\")\n",
    "cat(length(unique(allele_data$SampleID)), \"samples in allele data file\", \"\\n\")\n",
    "cat(length(unique(sample_coverage$SampleID)), \"samples in manifest and sample coverage file\", \"\\n\")\n",
    "cat(length(unique(amplicon_coverage$SampleID)), \"samples in manifest and amplicon coverage file\", \"\\n\")"
   ]
  },
  {
   "cell_type": "markdown",
   "id": "29bb6ac8-8fbb-4a79-b636-a4418cb5794d",
   "metadata": {
    "jp-MarkdownHeadingCollapsed": true
   },
   "source": [
    "## Plate Layout\n",
    "\n",
    "The plate layout provides a visual representation of sample organization, including the placement of positive and negative controls. This is allows verification that controls are positioned correctly to validate assay performance with later plots."
   ]
  },
  {
   "cell_type": "code",
   "execution_count": null,
   "id": "70d5b6dc-1023-4a67-9eb0-921fc855a3b2",
   "metadata": {},
   "outputs": [],
   "source": [
    "create_plate_template <- function(summary_samples, batches, nrows=8, ncols=12) {\n",
    "    quadrants <-\n",
    "      expand.grid(\n",
    "        Batch = batches,\n",
    "        y = 1:nrows,\n",
    "        Column = 1:ncols\n",
    "      ) %>%\n",
    "      mutate(\n",
    "        ymin = y - 0.45,\n",
    "        ymax = y + 0.45,\n",
    "        xmin = Column - 0.45,\n",
    "        xmax = Column + 0.45\n",
    "      ) %>%\n",
    "      mutate(Row = toupper(rev(letters[1:nrows])[y])) %>%\n",
    "      # Join on the sample information to the plate\n",
    "      left_join(\n",
    "        summary_samples %>%\n",
    "          select(Batch, Column, Row, SampleType) %>%\n",
    "          distinct(),\n",
    "        by = c(\"Batch\", \"Column\", \"Row\" = \"Row\")\n",
    "      )\n",
    "    return(quadrants)\n",
    "}"
   ]
  },
  {
   "cell_type": "code",
   "execution_count": null,
   "id": "80874960-24a2-4db8-83d9-eca28cebcab4",
   "metadata": {},
   "outputs": [],
   "source": [
    "quadrants <- create_plate_template(summary_samples, unique(summary_samples$Batch))"
   ]
  },
  {
   "cell_type": "code",
   "execution_count": null,
   "id": "b44be002-3aac-47f4-bfb0-3c326ec3a42c",
   "metadata": {},
   "outputs": [],
   "source": [
    "plot_plate_layout <- function(quadrants, sample_colours) {\n",
    "    # Ensure that NAs in SampleType are replaced with \"NA\" string (or another label)\n",
    "    quadrants$SampleType[is.na(quadrants$SampleType)] <- \"empty\"\n",
    "    plate_layout <- ggplot(quadrants) +\n",
    "      # Tiles representing sample types, fill based on SampleType\n",
    "      geom_tile(aes(x = Column, y = y, fill = SampleType), color = \"white\") +\n",
    "      # Facet by Batch\n",
    "      facet_wrap(vars(Batch), ncol = 1) +\n",
    "      scale_y_continuous(breaks = quadrants$y, labels = quadrants$Row) +\n",
    "      # Make sure labels are correct\n",
    "      xlab(\"Column\") +\n",
    "      ylab(\"Row\") +\n",
    "      # Customizing the x-axis\n",
    "      scale_x_continuous(breaks = 1:12, labels = as.character(1:12)) +\n",
    "      # Quadrants as rectangles with borders\n",
    "      geom_rect(\n",
    "        data = quadrants,\n",
    "        aes(xmin = xmin, xmax = xmax, ymin = ymin, ymax = ymax),\n",
    "        color = \"black\", fill = NA, linewidth = 1\n",
    "      ) +\n",
    "      # Custom fill colors for each SampleType\n",
    "      scale_fill_manual(\n",
    "        values = sample_colours\n",
    "      ) +\n",
    "      # Theming\n",
    "      theme_minimal() +\n",
    "      theme(\n",
    "        axis.text = element_text(size = 12),  \n",
    "        strip.text = element_text(size = 14, face = \"bold\"), \n",
    "        panel.grid = element_blank(),  \n",
    "        plot.title = element_text(size = 16, face = \"bold\", hjust = 0.5),\n",
    "      ) +\n",
    "    # Customizing the legend to add an outline for the colored squares\n",
    "    guides(\n",
    "      fill = guide_legend(\n",
    "        override.aes = list(\n",
    "          color = \"black\",  # Outline color for the squares\n",
    "          size = 1          # Outline size for the squares\n",
    "        )\n",
    "      )\n",
    "    ) +\n",
    "    # Title for the plot\n",
    "    ggtitle(\"Sample Types and Quadrants Distribution by Batch\")+\n",
    "    coord_fixed(ratio = 0.75)\n",
    "    print(plate_layout)\n",
    "}"
   ]
  },
  {
   "cell_type": "code",
   "execution_count": null,
   "id": "ead7a682-fed9-43ac-a5c3-f3ab85acc749",
   "metadata": {},
   "outputs": [],
   "source": [
    "plot_plate_layout(quadrants, sample_colours)"
   ]
  },
  {
   "cell_type": "markdown",
   "id": "a47051bd-8e27-4913-9505-b11cc670379f",
   "metadata": {
    "jp-MarkdownHeadingCollapsed": true
   },
   "source": [
    "## Primer Dimer Content\n",
    "\n",
    "Here we visualise the proportion of sequencing reads that are classified as primer dimers, which occur when primers anneal to each other instead of the target DNA. This plot is useful for assessing the efficiency of the amplification process, as high primer dimer levels can indicate suboptimal reaction conditions, reduced sequencing efficiency, and potential issues with sample quality or reagent performance."
   ]
  },
  {
   "cell_type": "code",
   "execution_count": null,
   "id": "7b174d44-f2a7-4fd5-b5f8-aa7f9660d5de",
   "metadata": {},
   "outputs": [],
   "source": [
    "# Function to generate the plot\n",
    "generate_dimer_plot <- function(sample_coverage_with_manifest, sample_colours) {\n",
    "    \n",
    "    dimer_plot <- ggplot(data = sample_coverage_with_manifest %>%  arrange(desc(SampleType))) +\n",
    "      # Plot points with different colors for each sample type\n",
    "      geom_point(aes(x = Input + 0.9, \n",
    "                     y = (1 - OutputPostprocessing / Input) * 100, \n",
    "                     color = SampleType),\n",
    "                 shape = 1, \n",
    "                 alpha=0.8,\n",
    "                 stroke = 1) +\n",
    "    # Log scale for the x-axis\n",
    "    scale_x_log10() +\n",
    "    # Faceting by Batch column\n",
    "    facet_wrap(~Batch) +\n",
    "    # Adding labels and title\n",
    "    ylab(\"% Dimers\") +\n",
    "    xlab(\"Input Reads\") +\n",
    "    ggtitle(\"Dimer Content\")+\n",
    "    # Color scale for SampleType\n",
    "    scale_color_manual(values = sample_colours) \n",
    "    print(dimer_plot)\n",
    "}"
   ]
  },
  {
   "cell_type": "code",
   "execution_count": null,
   "id": "bc9e1b67-15ff-44eb-bf56-324572df01a8",
   "metadata": {},
   "outputs": [],
   "source": [
    "generate_dimer_plot(sample_coverage_with_manifest, sample_colours)"
   ]
  },
  {
   "cell_type": "markdown",
   "id": "fcc14277-8458-4182-8c26-f0c91a34de08",
   "metadata": {
    "jp-MarkdownHeadingCollapsed": true
   },
   "source": [
    "## Balancing Across Batches\n",
    "\n",
    "Here we show the distribution of total reads per sample across different batches, helping to assess whether sequencing depth is consistent. This plot is useful when you have multiple batches in the same sequencing run to identify imbalances in sequencing, which can arise due to variations in library preparation, loading efficiency, or sequencing conditions."
   ]
  },
  {
   "cell_type": "code",
   "execution_count": null,
   "id": "1135599d-eb31-4b96-9784-eee3ff6de9bc",
   "metadata": {},
   "outputs": [],
   "source": [
    "generate_balancing_plot <- function(summary_samples, sample_colours) {\n",
    "  ggplot() + \n",
    "    ggbeeswarm::geom_quasirandom(\n",
    "    data = summary_samples %>% \n",
    "        select(SampleID, Batch, reads_per_sample, SampleType) %>% \n",
    "        distinct(), \n",
    "    aes(x = Batch, y = reads_per_sample + 0.9, color = SampleType)\n",
    "    ) +\n",
    "    scale_y_log10() +\n",
    "    scale_color_manual(values = sample_colours) +\n",
    "    ylab(\"Total Reads for Sample\") +\n",
    "    ggtitle(\"Balancing Across Batches\") +\n",
    "    theme(\n",
    "      axis.text.x = element_text(angle = 90, hjust = 1)  # Rotate x-axis labels by 45 degrees\n",
    "    )\n",
    "}"
   ]
  },
  {
   "cell_type": "code",
   "execution_count": null,
   "id": "4fca5327-45b6-45f4-9333-658f803de8b0",
   "metadata": {},
   "outputs": [],
   "source": [
    "generate_balancing_plot(summary_samples, sample_colours)"
   ]
  },
  {
   "cell_type": "markdown",
   "id": "df85fa94-3c7f-4cfe-b1ba-72f33532e6cc",
   "metadata": {
    "jp-MarkdownHeadingCollapsed": true
   },
   "source": [
    "## Control Summary\n",
    "\n",
    "### Polyclonality of Positive Controls\n",
    "\n",
    "Here we inspect the positive controls, ensuring that the positive controls perform as expected without contamination or unwanted diversity. For example, if the control you included was monoclonal you would expect little to no loci reported as having more than one allele (polyclonal). In some cases you may allow for some level of false positive detection within a monoclonal control, these filters "
   ]
  },
  {
   "cell_type": "code",
   "execution_count": null,
   "id": "261f48a2-5144-4186-96f6-bf26c21938fd",
   "metadata": {},
   "outputs": [],
   "source": [
    "# Add on within sample allele freqeucny \n",
    "allele_data <- allele_data %>%\n",
    "  group_by(SampleID, Locus) %>%\n",
    "  mutate(AlleleFreq = Reads / sum(Reads)) %>%\n",
    "  ungroup()"
   ]
  },
  {
   "cell_type": "code",
   "execution_count": null,
   "id": "b7491fb5-6241-4be6-bdae-ce53af880afe",
   "metadata": {},
   "outputs": [],
   "source": [
    "pos_control_allele_data <- allele_data %>%\n",
    "  inner_join(manifest %>% filter(SampleType == \"positive\"), by = \"SampleID\")"
   ]
  },
  {
   "cell_type": "code",
   "execution_count": null,
   "id": "69c996eb-45df-4767-93e5-e2b16f5f036b",
   "metadata": {},
   "outputs": [],
   "source": [
    "if (allele_col==\"PseudoCIGAR\") {\n",
    "  pos_control_data <- pos_control_allele_data %>%\n",
    "      group_by(SampleID, Locus, PseudoCIGAR) %>%\n",
    "      summarise(Reads = sum(Reads), AlleleFreq = sum(AlleleFreq), .groups = \"drop\")\n",
    "} else {\n",
    "  pos_control_data <- pos_control_allele_data\n",
    "}"
   ]
  },
  {
   "cell_type": "code",
   "execution_count": null,
   "id": "15feb823-64b0-4021-85cd-0c3cb179b29f",
   "metadata": {},
   "outputs": [],
   "source": [
    "# Load required libraries\n",
    "# Apply filters and identify the number of alleles being called per locus\n",
    "locus_summary <- pos_control_data %>%\n",
    "  group_by(SampleID, Locus) %>%\n",
    "  summarise(\n",
    "    NumASVs_Meeting_Threshold = sum(Reads > read_filter & AlleleFreq > af_filter),\n",
    "    .groups = \"drop\"\n",
    "  ) %>%\n",
    "  mutate(\n",
    "    Category = case_when(\n",
    "      NumASVs_Meeting_Threshold == 1 ~ \"Monoclonal\",\n",
    "      NumASVs_Meeting_Threshold == 2 ~ \"2 Alleles\",\n",
    "      NumASVs_Meeting_Threshold > 2  ~ \">2 Alleles\"\n",
    "    )\n",
    "  )\n",
    "\n",
    "# Count loci per sample for each category\n",
    "result <- locus_summary %>%\n",
    "  group_by(SampleID, Category) %>%\n",
    "  summarise(Count = n(), .groups = \"drop\")\n",
    "\n",
    "# Create ggplot\n",
    "p <- ggplot(result, aes(x = SampleID, y = Count, fill = Category, text = paste(\"Count:\", Count))) +\n",
    "  geom_bar(stat = \"identity\", position = \"stack\") +\n",
    "  labs(title = \"Clonality of Loci for Positive Controls\", x = \"Sample ID\", y = \"Number of Loci\") +\n",
    "  theme_minimal() +\n",
    "  scale_fill_manual(values = c(\"Monoclonal\" = \"Gray\", \"2 Alleles\" = \"orangered2\", \">2 Alleles\" = \"turquoise3\")) + \n",
    "  theme(\n",
    "    axis.text.x = element_text(angle = 90, hjust = 1)\n",
    "  )\n",
    "\n",
    "# Convert ggplot to interactive plot\n",
    "ggplotly(p, tooltip = \"text\", width = 800, height = 500)"
   ]
  },
  {
   "cell_type": "code",
   "execution_count": null,
   "id": "105ea609-8978-42bd-be97-d6e132df03b6",
   "metadata": {},
   "outputs": [],
   "source": [
    "# Filter data to keep only loci with more than one allele (polyclonal cases)\n",
    "polyclonal_information <- pos_control_data %>%\n",
    "  inner_join(locus_summary, by = c(\"SampleID\", \"Locus\")) %>%\n",
    "  filter(Category %in% c(\"2 Alleles\", \">2 Alleles\"))  # Keep only polyclonal categories\n",
    "\n",
    "# Save to CSV\n",
    "write.csv(polyclonal_information, polyclonal_information_path, row.names = FALSE)\n",
    "\n",
    "# Display as styled table\n",
    "head(polyclonal_information) |>\n",
    "  kable() |>\n",
    "  kable_styling(bootstrap_options = c(\"striped\", \"hover\", \"condensed\"))"
   ]
  },
  {
   "cell_type": "markdown",
   "id": "62571b29-a1fd-4c42-867b-9ec7c68237fc",
   "metadata": {},
   "source": [
    "### Negative Control Contamination \n",
    "\n",
    "#### Read Summary per Negative Control\n",
    "In an ideal scenario, negative controls should have minimal or no amplification. If a negative control shows a high number of targets amplified with significant reads, it suggests potential contamination. By plotting the number of reads against the number of targets for each sample, any outliers or unexpected amplification in negative controls can be easily flagged."
   ]
  },
  {
   "cell_type": "code",
   "execution_count": null,
   "id": "8e191da7-c6d8-4082-aa5a-9fb99aa0ae09",
   "metadata": {},
   "outputs": [],
   "source": [
    "# retrieve negative controls from amplicons.full\n",
    "amplicons_negative = amplicon_coverage_with_manifest %>% \n",
    "  filter(SampleType==\"negative\") %>% \n",
    "  mutate(negative = paste0(Batch,\" Well: \",toupper(Row),Column)) "
   ]
  },
  {
   "cell_type": "code",
   "execution_count": null,
   "id": "e352a0e7-4b2c-4af2-9326-1289bcabe154",
   "metadata": {},
   "outputs": [],
   "source": [
    "ggplot(amplicons_negative) +\n",
    "  geom_histogram(aes(x = OutputPostprocessing, fill = reaction)) +\n",
    "  facet_wrap(~ negative) +\n",
    "  xlim(-ifelse(\n",
    "    max(amplicons_negative$OutputPostprocessing) == 0,\n",
    "    1e2,\n",
    "    max(amplicons_negative$OutputPostprocessing)\n",
    "  ) / 50,\n",
    "  ifelse(\n",
    "    max(amplicons_negative$OutputPostprocessing) == 0,\n",
    "    1e2,\n",
    "    max(amplicons_negative$OutputPostprocessing) + 10 \n",
    "  )) +\n",
    "  xlab(\"Reads\") +\n",
    "  ylab(\"Count\") + \n",
    "  scale_fill_manual(values = reaction_colours)"
   ]
  },
  {
   "cell_type": "code",
   "execution_count": null,
   "id": "3fc0b297-73e6-46bd-bb2b-9f285d0b6609",
   "metadata": {},
   "outputs": [],
   "source": [
    "neg_control_information <- amplicons_negative %>%\n",
    "    filter(OutputPostprocessing > negative_control_read_threshold) %>%\n",
    "    select('SampleID','Locus','OutputPostprocessing')\n",
    "write.csv(neg_control_information, neg_control_information_path, row.names = FALSE)\n",
    "head(neg_control_information_path) |>\n",
    "  kable() |>\n",
    "  kable_styling(bootstrap_options = c(\"striped\", \"hover\", \"condensed\"))"
   ]
  },
  {
   "cell_type": "markdown",
   "id": "f2dce911-6902-45f6-9f26-8cc8c3b376b9",
   "metadata": {},
   "source": [
    "#### Aggregated Reads per Target\n",
    "\n",
    "This plot aggregates the total reads for each locus across all negative controls. In negative controls, if there is an unexpected spike in reads for specific loci, it could indicate contamination in the form of cross-sample contamination or environmental contamination. Analyzing these total summed reads helps pinpoint specific loci where contamination might have occurred, offering insights into which steps in the process might have introduced contaminants."
   ]
  },
  {
   "cell_type": "code",
   "execution_count": null,
   "id": "1cec8e28-336b-4598-828d-11e8e2914ae9",
   "metadata": {},
   "outputs": [],
   "source": [
    "# Get reads for each locus, label reaction and extract chrom and start from locus name\n",
    "summary_data <- amplicons_negative %>%\n",
    "  group_by(reaction, Locus) %>%\n",
    "  summarise(sum_reads = sum(Reads, na.rm = TRUE), .groups = \"drop\") %>%\n",
    "  mutate(\n",
    "    Chromosome = sub(\"-.*\", \"\", Locus),  \n",
    "    Start = as.numeric(sub(\".*-(\\\\d+)-.*\", \"\\\\1\", Locus))\n",
    "  ) %>%\n",
    "  arrange(Chromosome, Start) %>%\n",
    "  mutate(Locus = factor(Locus, levels = unique(Locus))) %>%  \n",
    "  rowid_to_column(\"RowID\") \n",
    "\n",
    "# Add a column with a list of sample IDs where Reads > 0 for each locus\n",
    "summary_data <- amplicons_negative %>%\n",
    "  filter(Reads > 0) %>%\n",
    "  group_by(Locus) %>%\n",
    "  summarise(samples_with_reads = paste(unique(SampleID), collapse = \", \"), .groups = \"drop\") %>%\n",
    "  right_join(summary_data, by = \"Locus\")\n",
    "\n",
    "# Reduce x-axis labels: label every nth locus\n",
    "nth_label <- 20 \n",
    "summary_data <- summary_data %>%\n",
    "  mutate(Locus_label = ifelse(RowID %% nth_label == 1, paste0(Chromosome, \":\", Start), \"\"))\n",
    "\n",
    "# Create the bar plot with hover text\n",
    "p <- ggplot(summary_data, aes(x = Locus, y = sum_reads, fill = reaction, text = paste(\"Locus: \", Locus, \"<br>Total Reads: \", sum_reads, \"<br>Controls with Reads: \", samples_with_reads))) +\n",
    "  geom_bar(stat = \"identity\", position = \"dodge\") +\n",
    "  xlab(\"Locus (Chromosome:Start Coordinate)\") +\n",
    "  ylab(\"Sum of Reads Across Controls\") +\n",
    "  ggtitle(\"Total Reads per Locus Across Negative Controls\") +\n",
    "  theme(\n",
    "    axis.text.x = element_text(angle = 90, hjust = 1, size = 8),\n",
    "    axis.title = element_text(size = 12),\n",
    "    panel.grid = element_blank(),\n",
    "    panel.background = element_blank()\n",
    "  ) +\n",
    "  scale_x_discrete(labels = summary_data$Locus_label) +  # Apply reduced labels\n",
    "  scale_fill_manual(values = reaction_colours)\n",
    "\n",
    "# Convert to interactive plotly plot\n",
    "ggplotly(p, tooltip = \"text\")"
   ]
  },
  {
   "cell_type": "markdown",
   "id": "54d8f5c8-c108-495d-a9cb-3aff83c376f4",
   "metadata": {},
   "source": [
    "#### Negative Control Contamination Maps"
   ]
  },
  {
   "cell_type": "code",
   "execution_count": null,
   "id": "7005efeb-e874-41a0-ba83-0ad06331dae0",
   "metadata": {},
   "outputs": [],
   "source": [
    "plot_plate_with_feature <- function(target, allele_data, quadrants, sample_colours, fill_param, scale_midpoint, scale_label) {\n",
    "\n",
    "    target_data <- allele_data %>% filter(SampleID == target)\n",
    "    comparison <- target_data %>% \n",
    "        inner_join(allele_data, by = c(\"Locus\",\"PseudoCIGAR\"), suffix = c(\"_target\", \"\")) %>%\n",
    "        group_by(SampleID_target, SampleID, PseudoCIGAR) %>%\n",
    "        summarise(\n",
    "            common_count = n(),  # Count the number of times the PseudoCIGAR is shared\n",
    "            common_reads = sum(Reads_target + Reads, na.rm = TRUE),  # Sum the reads of both samples\n",
    "            .groups = \"drop\"\n",
    "        )\n",
    "    comparison_plate <- comparison %>%\n",
    "      inner_join(manifest, by = \"SampleID\")\n",
    "    \n",
    "    # Merge comparison_plate with quadrants to include reads_per_reaction\n",
    "    merged_data <- merge(comparison_plate, quadrants, by = c(\"Batch\", \"Row\", \"Column\", \"SampleType\"), all.y = TRUE)\n",
    "    \n",
    "    # Ensure NAs in SampleType are labeled\n",
    "    merged_data$SampleType[is.na(merged_data$SampleType)] <- \"empty\"\n",
    "    \n",
    "    # Create a new column to identify the target sample\n",
    "    merged_data$target <- ifelse(merged_data$SampleID == target, \"target\", \"other\")\n",
    "\n",
    "    # Create the heatmap plot\n",
    "    plate_layout <- ggplot(merged_data) +\n",
    "      # Heatmap fill based on reads_per_reaction\n",
    "      geom_tile(aes(x = Column, y = y, fill = !!rlang::parse_expr(fill_param)), color = NA, width = 0.95, height = 0.95) +\n",
    "      # Separate tile layer for outlines\n",
    "      geom_rect(data = merged_data,\n",
    "                aes(xmin = Column-0.45, xmax = Column+0.45, ymin = y-0.45, ymax = y+0.45, color = target), \n",
    "                fill = NA, linewidth = 1.3) +\n",
    "      # Color gradient for heatmap\n",
    "      scale_fill_gradient2(\n",
    "        low = \"black\",\n",
    "        mid = \"darkorange4\",\n",
    "        high = \"darkorange\",\n",
    "        midpoint = scale_midpoint,\n",
    "        name = scale_label\n",
    "      ) +\n",
    "      # Custom colors for target vs normal\n",
    "      scale_color_manual(values = c(\"other\" = \"darkgrey\", \"target\" = \"red3\")) +  # Highlight sample in red, others in gray\n",
    "      # Labels\n",
    "      scale_y_continuous(breaks = merged_data$y, labels = merged_data$Row) +\n",
    "      scale_x_continuous(breaks = 1:12, labels = as.character(1:12)) +\n",
    "      xlab(\"Column\") +\n",
    "      ylab(\"Row\") +\n",
    "      ggtitle(\"Reads per Reaction Heatmap\") +\n",
    "      # Theme adjustments\n",
    "      theme_minimal() +\n",
    "      theme(\n",
    "        axis.text = element_text(size = 12),\n",
    "        strip.text = element_text(size = 14, face = \"bold\"),\n",
    "        panel.grid = element_blank(),\n",
    "        plot.title = element_text(size = 16, face = \"bold\", hjust = 0.5),\n",
    "        legend.key = element_rect(colour = \"black\")  # Ensure visible legend border\n",
    "      ) + \n",
    "      coord_fixed(ratio = 0.75)\n",
    "    \n",
    "    print(plate_layout)\n",
    "}"
   ]
  },
  {
   "cell_type": "code",
   "execution_count": null,
   "id": "cb3908cf-c9f5-48d1-8490-3bcc19ee4e79",
   "metadata": {},
   "outputs": [],
   "source": [
    "plot_plate_with_feature(\"Negative-Control-2\", allele_data, quadrants, sample_colours, \"log10(common_reads+0.1)\", 2, \"log10(common_reads)\")"
   ]
  },
  {
   "cell_type": "markdown",
   "id": "9d30a87f-7176-46b2-8820-a84670160c0c",
   "metadata": {
    "jp-MarkdownHeadingCollapsed": true
   },
   "source": [
    "## Successul Amplification"
   ]
  },
  {
   "cell_type": "markdown",
   "id": "568ba4a4-22ae-406b-a244-260140acccad",
   "metadata": {},
   "source": [
    "### Parasitemia vs. Number of Successfully Amplified Loci\n",
    "This plot examines the relationship between a sample's parasitemia (qPCR-determined parasite load) and the number of loci that successfully amplified. This plot helps assess whether lower parasitemia samples struggle with amplification, which can indicate potential limitations in sensitivity."
   ]
  },
  {
   "cell_type": "code",
   "execution_count": null,
   "id": "027e84cc-5531-4359-9e44-c85a1a90e69a",
   "metadata": {},
   "outputs": [],
   "source": [
    "generate_parasitemia_by_amplification_success_plot <- function(summary_samples, threshold, sample_colours) {\n",
    "    parasitemia_plot <- ggplot(data = summary_samples) +\n",
    "      # Plot points with different colors for each sample type\n",
    "      geom_point(aes(x = Parasitemia + 0.9, \n",
    "                     y = prop_good_loci, \n",
    "                     color = SampleType),\n",
    "                 shape = 1,\n",
    "                 alpha=0.8,\n",
    "                 stroke = 1) +\n",
    "    # Log scale for the x-axis\n",
    "    scale_x_log10() +\n",
    "    ylim(0,1) + \n",
    "    # Faceting by Batch column\n",
    "    facet_grid(cols = vars(Batch),rows = vars(reaction),\n",
    "               scale = \"free_y\")+\n",
    "    # Adding labels and title\n",
    "    ylab(paste0(\"Amplicons with >\",threshold,\" reads\")) +\n",
    "    xlab(\"Parasitemia (log10)\") +\n",
    "    theme(axis.text.x = element_text(angle = 90, hjust = 1))+\n",
    "\n",
    "    ggtitle(\"Amplicons with `good` read depth\")+\n",
    "    # Color scale for SampleType\n",
    "    scale_color_manual(values = sample_colours) \n",
    "    print(parasitemia_plot)\n",
    "}"
   ]
  },
  {
   "cell_type": "code",
   "execution_count": null,
   "id": "01c01740-f2e0-47a6-bc35-df646b67fabe",
   "metadata": {},
   "outputs": [],
   "source": [
    "generate_parasitemia_by_amplification_success_plot(summary_samples, read_threshold, sample_colours)"
   ]
  },
  {
   "cell_type": "markdown",
   "id": "53317634-7120-4169-93bd-4df123615e6e",
   "metadata": {},
   "source": [
    "### Sample Reads vs. Number of Successfully Amplified Loci\n",
    "\n",
    "This illustrates the relationship between the total number of reads per sample and the number of loci that passed the amplification threshold for that sample. This plot helps evaluate whether samples with higher read counts achieve better amplification success and can reveal potential issues such as insufficient sequencing depth or inefficient amplification. Ideally, a positive correlation should be observed, where higher read counts result in more successfully amplified loci."
   ]
  },
  {
   "cell_type": "code",
   "execution_count": null,
   "id": "26c7fbd5-0dc5-43bf-8276-fb0a51f0c6ba",
   "metadata": {},
   "outputs": [],
   "source": [
    "generate_reads_by_amplification_success_plot <- function(summary_samples, amplification_threshold, \n",
    "                                                         sample_colours, reprep_threshold, repool_threshold) {\n",
    "    \n",
    "    amp_plot <- ggplot(data = summary_samples) +\n",
    "      # Plot points with different colors for each sample type\n",
    "      geom_point(aes(x = reads_per_sample + 0.9,  \n",
    "                     y=prop_good_loci,\n",
    "                     color = SampleType),\n",
    "                 shape=1,\n",
    "                 alpha=0.8,\n",
    "                 stroke = 1) +\n",
    "    # Log scale for the x-axis\n",
    "    scale_x_log10() +\n",
    "    # Fix y-axis scale from 0 to 1\n",
    "    scale_y_continuous(limits = c(0, 1)) +\n",
    "    # Faceting by Batch column\n",
    "    facet_grid(cols = vars(Batch),rows = vars(reaction),\n",
    "               scale = \"free_y\")+\n",
    "    # Adding labels and title\n",
    "    ylab(paste0(\"Amplicons with >\",amplification_threshold,\" reads\")) +\n",
    "    xlab(\"Total Reads for Sample\") +\n",
    "    theme(axis.text.x = element_text(angle = 90, hjust = 1))+\n",
    "\n",
    "    ggtitle(\"Targets that Amplified Successfully\")+\n",
    "    # Color scale for SampleType\n",
    "    scale_color_manual(values = sample_colours) +\n",
    "    # Add dashed horizontal lines at reprep_threshold and repool_threshold\n",
    "    geom_hline(yintercept = reprep_threshold, linetype = \"dashed\") +\n",
    "    geom_hline(yintercept = repool_threshold, linetype = \"dashed\") +\n",
    "    # Add labels for the horizontal lines\n",
    "    annotate(\"text\", x = min(summary_samples$reads_per_sample, na.rm = TRUE), \n",
    "               y = reprep_threshold, label = \"Reprep\", vjust = 1, hjust = 0) +\n",
    "    annotate(\"text\", x = min(summary_samples$reads_per_sample, na.rm = TRUE), \n",
    "               y = repool_threshold, label = \"Repool\", vjust = 1, hjust = 0) \n",
    "    print(amp_plot)\n",
    "}"
   ]
  },
  {
   "cell_type": "code",
   "execution_count": null,
   "id": "12bd89b6-b87e-4d9b-b5a1-d5a505e19ccf",
   "metadata": {},
   "outputs": [],
   "source": [
    "generate_reads_by_amplification_success_plot(summary_samples, read_threshold, sample_colours,  reprep_threshold, repool_threshold)"
   ]
  },
  {
   "cell_type": "code",
   "execution_count": null,
   "id": "49805b7a-3711-48b9-9637-322da36c2be1",
   "metadata": {},
   "outputs": [],
   "source": [
    "generate_reprep_repool_table <- function(summary_samples, reprep_threshold, repool_threshold, output_path) {\n",
    "    summary_table <- summary_samples %>%\n",
    "      mutate(\n",
    "          status = case_when(\n",
    "          prop_good_loci < reprep_threshold ~ \"reprep\",\n",
    "          prop_good_loci < repool_threshold ~ \"repool\",\n",
    "          TRUE ~ \"pass\"\n",
    "        ),\n",
    "        reason = case_when(\n",
    "          prop_good_loci < reprep_threshold ~ paste(\"< reprep threshold \",reprep_threshold),\n",
    "          prop_good_loci < repool_threshold ~ paste(\"< repool threshold \",repool_threshold),\n",
    "          TRUE ~ \"NA\"\n",
    "        )\n",
    "      ) %>%\n",
    "      arrange(desc(status)) %>%\n",
    "      select(SampleID, Batch, reaction, status, reason, reads_per_reaction)\n",
    "    \n",
    "    return(summary_table)\n",
    "}"
   ]
  },
  {
   "cell_type": "code",
   "execution_count": null,
   "id": "a44b27ff-17ef-47e7-9718-d542ee0aa51f",
   "metadata": {},
   "outputs": [],
   "source": [
    "# Add in any samples that were in manifest and not in results\n",
    "fill_missing_data <- function(reprep_repool_summary, manifest) {\n",
    "  # Get unique reactions\n",
    "  unique_reactions <- unique(reprep_repool_summary$reaction)\n",
    "\n",
    "  # Identify missing samples from manifest\n",
    "  missing_samples <- manifest %>%\n",
    "    filter(!(SampleID %in% reprep_repool_summary$SampleID)) %>%\n",
    "    select(SampleID, Batch)\n",
    "\n",
    "  # Create rows for missing SampleIDs with all reactions\n",
    "  missing_sample_rows <- missing_samples %>%\n",
    "    crossing(reaction = unique_reactions) %>%\n",
    "    mutate(\n",
    "      status = \"reprep\",\n",
    "      reason = \"no data for sample\",\n",
    "      reads_per_reaction = 0\n",
    "    )\n",
    "  \n",
    "  # Ensure all existing samples have all reactions\n",
    "  missing_reaction_rows <- reprep_repool_summary %>%\n",
    "    select(SampleID, Batch) %>%\n",
    "    distinct() %>%\n",
    "    crossing(reaction = unique_reactions) %>%\n",
    "    anti_join(reprep_repool_summary, by = c(\"SampleID\", \"Batch\", \"reaction\")) %>%\n",
    "    mutate(\n",
    "      status = \"reprep\",\n",
    "      reason = \"no data for reaction\",\n",
    "      reads_per_reaction = 0\n",
    "    )\n",
    "\n",
    "  # Combine everything\n",
    "  bind_rows(reprep_repool_summary, missing_sample_rows, missing_reaction_rows)\n",
    "}"
   ]
  },
  {
   "cell_type": "code",
   "execution_count": null,
   "id": "cbf336b9-8995-4777-a36b-77f8707fdffb",
   "metadata": {},
   "outputs": [],
   "source": [
    "reprep_repool_summary <- generate_reprep_repool_table(summary_samples, reprep_threshold, repool_threshold, reprep_repool_summary_path)\n",
    "reprep_repool_summary <- fill_missing_data(reprep_repool_summary, manifest)\n",
    "head(reprep_repool_summary) |>\n",
    "  kable() |>\n",
    "  kable_styling(bootstrap_options = c(\"striped\", \"hover\", \"condensed\"))"
   ]
  },
  {
   "cell_type": "code",
   "execution_count": null,
   "id": "c704e87e-72fe-4107-8cd0-7fc121d3c2ae",
   "metadata": {},
   "outputs": [],
   "source": [
    "write.csv(reprep_repool_summary, reprep_repool_summary_path, row.names = FALSE)"
   ]
  },
  {
   "cell_type": "markdown",
   "id": "6ae84c07-93e2-49b4-b588-14746bf31bb7",
   "metadata": {
    "jp-MarkdownHeadingCollapsed": true
   },
   "source": [
    "## Amplification Plate Maps"
   ]
  },
  {
   "cell_type": "markdown",
   "id": "aa3b800b-22e9-4020-b19c-3e2aae45868e",
   "metadata": {},
   "source": [
    "### Reads Heatmap\n",
    "\n",
    "The reads heatmap provides a visual representation of read distribution across the plate, helping to identify inconsistencies in sequencing efficiency. This can highlight potential issues such as edge effects, batch effects, or pipetting errors that may impact data quality and interpretation."
   ]
  },
  {
   "cell_type": "code",
   "execution_count": null,
   "id": "fa54d11f-d87f-4bdd-a7a4-ce2386d476e3",
   "metadata": {},
   "outputs": [],
   "source": [
    "plot_plate_with_feature <- function(summary_samples, quadrants, sample_colours, fill_param, scale_midpoint, scale_label) {\n",
    "    # Merge summary_samples with quadrants to include reads_per_reaction\n",
    "    quadrants <- crossing(summary_samples %>% select(reaction) %>% distinct() , quadrants)\n",
    "    merged_data <- merge(summary_samples, quadrants, by = c(\"Batch\", \"Row\", \"Column\", \"SampleType\", \"reaction\"), all.y = TRUE)\n",
    "    \n",
    "    # Ensure NAs in SampleType are labeled\n",
    "    merged_data$SampleType[is.na(merged_data$SampleType)] <- \"empty\"\n",
    "    \n",
    "    # Create the heatmap plot\n",
    "    plate_layout <- ggplot(merged_data) +\n",
    "      # Heatmap fill based on reads_per_reaction\n",
    "      geom_tile(aes(x = Column, y = y, fill = !!rlang::parse_expr(fill_param)), color = NA, width = 0.95, height = 0.95) +\n",
    "      # Separate tile layer for outlines\n",
    "      geom_rect(data = merged_data,\n",
    "            aes(xmin = Column-0.45, xmax = Column+0.45, ymin = y-0.45, ymax = y+0.45,color=SampleType),fill = NA,linewidth=1.3)+\n",
    "      # Facet by Batch and reaction\n",
    "      facet_grid(reaction ~ Batch) +\n",
    "      # Color gradient for heatmap\n",
    "      scale_fill_gradient2(\n",
    "        low = \"black\",\n",
    "        mid = \"darkorange4\",\n",
    "        high = \"darkorange\",\n",
    "        midpoint = scale_midpoint,\n",
    "        name = scale_label\n",
    "      ) +\n",
    "      # Outline colors based on SampleType\n",
    "      scale_color_manual(values = sample_colours, na.translate = TRUE) +\n",
    "      # Labels\n",
    "      scale_y_continuous(breaks = merged_data$y, labels = merged_data$Row) +\n",
    "      scale_x_continuous(breaks = 1:12, labels = as.character(1:12)) +\n",
    "      xlab(\"Column\") +\n",
    "      ylab(\"Row\") +\n",
    "      ggtitle(\"Reads per Reaction Heatmap\") +\n",
    "      # Theme adjustments\n",
    "      theme_minimal() +\n",
    "      theme(\n",
    "        axis.text = element_text(size = 12),\n",
    "        strip.text = element_text(size = 14, face = \"bold\"),\n",
    "        panel.grid = element_blank(),\n",
    "        plot.title = element_text(size = 16, face = \"bold\", hjust = 0.5),\n",
    "        legend.key = element_rect(colour = \"black\")  # Ensure visible legend border\n",
    "      ) + \n",
    "    coord_fixed(ratio = 0.75)\n",
    "    print(plate_layout)\n",
    "}"
   ]
  },
  {
   "cell_type": "code",
   "execution_count": null,
   "id": "10449b8e-123f-4266-b4ea-62dcd6de5c23",
   "metadata": {},
   "outputs": [],
   "source": [
    "plot_plate_with_feature(summary_samples, quadrants, sample_colours, \"log10(reads_per_reaction + 0.1)\", 2, \"log10(reads_per_reaction)\")"
   ]
  },
  {
   "cell_type": "markdown",
   "id": "b1731a01-970c-4ea7-8f2b-d1e62e851674",
   "metadata": {},
   "source": [
    "### Successful Amplification Heatmap\n",
    "Here we visualise the success rate of amplification across the plate, allowing for the identification of poorly amplified regions or wells. This is useful for assessing the quality of the PCR process, ensuring that loci across all samples are adequately amplified, and helping to spot potential issues with specific wells or sample groups."
   ]
  },
  {
   "cell_type": "code",
   "execution_count": null,
   "id": "fcea501b-9dcb-4031-8a51-c20b385f6324",
   "metadata": {},
   "outputs": [],
   "source": [
    "plot_plate_with_feature(summary_samples, quadrants, sample_colours, \"prop_good_loci\", 0.5, \"prop_good_loci\")"
   ]
  },
  {
   "cell_type": "markdown",
   "id": "dfd855da-835a-4b72-a9a7-ca0adff5900e",
   "metadata": {
    "jp-MarkdownHeadingCollapsed": true
   },
   "source": [
    "## Save filtered allele table"
   ]
  },
  {
   "cell_type": "code",
   "execution_count": null,
   "id": "96ddf12e-d1e1-4321-9745-4e9fae497938",
   "metadata": {},
   "outputs": [],
   "source": [
    "# Read in raw data with no other filtering applied \n",
    "allele_data <- read.csv(allele_data_path, sep='\\t')\n",
    "# If using pseudocigar column, then group by this for reads\n",
    "if (allele_col==\"PseudoCIGAR\") {\n",
    "  allele_data <- allele_data %>%\n",
    "      group_by(SampleID, Locus, PseudoCIGAR) %>%\n",
    "      summarise(Reads = sum(Reads), .groups = \"drop\")\n",
    "}\n",
    "# Calculate allele frequency\n",
    "allele_data <- allele_data %>%\n",
    "  group_by(SampleID, Locus) %>%\n",
    "  mutate(AlleleFreq = Reads / sum(Reads)) %>%\n",
    "  ungroup()\n",
    "# Filter to minimum read and within sample allele frequency \n",
    "allele_data_filtered <- allele_data %>% \n",
    "  filter(Reads > read_filter & AlleleFreq > af_filter)\n",
    "# Write out table \n",
    "write.csv(allele_data_filtered, filtered_allele_data_path, row.names = FALSE)"
   ]
  },
  {
   "cell_type": "code",
   "execution_count": null,
   "id": "2d4781e3-158f-486c-8d9e-12ec815401b2",
   "metadata": {},
   "outputs": [],
   "source": []
  }
 ],
 "metadata": {
  "kernelspec": {
   "display_name": "R",
   "language": "R",
   "name": "ir"
  },
  "language_info": {
   "codemirror_mode": "r",
   "file_extension": ".r",
   "mimetype": "text/x-r-source",
   "name": "R",
   "pygments_lexer": "r",
   "version": "4.4.2"
  }
 },
 "nbformat": 4,
 "nbformat_minor": 5
}
