{
 "cells": [
  {
   "cell_type": "markdown",
   "id": "6508332a-41d1-4941-9b71-86932e766dc6",
   "metadata": {},
   "source": [
    "# QC Report \n",
    "\n",
    "This interactive notebook generates a summary of QC statistics to assess the success of a **Mad4hatter** run. \n",
    "\n",
    "## Required Inputs \n",
    "\n",
    "To proceed, you must provide the **results directory** from the Mad4hatter pipeline, which should include the following files:\n",
    "\n",
    "* **sample_coverage.txt**\n",
    "* **amplicon_coverage.txt**\n",
    "* **allele_data.txt**\n",
    "\n",
    "Additionally, a **sample manifest** is required. This file must contain the following fields:\n",
    "\n",
    "* **SampleID** – Unique identifier for each sample.\n",
    "* **SampleType** – Specifies whether the entry is a **sample**, **positive** control, or **negative** control.\n",
    "* **Batch** – Identifies a group of samples processed simultaneously by the same individual.\n",
    "* **Column** – The well column where the sample was placed in the plate.\n",
    "* **Row** – The well row where the sample was placed in the plate.\n",
    "* **Parasitemia** – The qPCR value for the sample.\n",
    "\n",
    "## QC Summaries\n",
    "The notebook provides the following analyses:\n",
    "\n",
    "* **Primer Dimer Content**: Input reads vs. % attributed to primer dimers \n",
    "* **Balancing Across Batches**: Swarm plot of reads output by the pipeline by batch\n",
    "* **Successul Amplification** summary, including:\n",
    "    * Sample Reads vs. Number of Successfully Amplified Loci\n",
    "    * Parasitemia vs. Number of Successfully Amplified Loci\n",
    "* **Plate Maps**, including:\n",
    "    * Plate Layout\n",
    "    * Reads Heatmap\n",
    "    * Successful Amplification Heatmap\n",
    "* **Control Summary**, including:  \n",
    "    * Polyclonality of Positive Controls\n",
    "    * Read Summary for Negative Controls\n",
    " \n",
    "      \n",
    "Note: A locus is considered successfully amplified if it has more than `read_threshold` reads, where `read_threshold` is a threshold that can be set below."
   ]
  },
  {
   "cell_type": "markdown",
   "id": "a4a3c16e-7ffe-4e3e-b8b9-a9f3c1acc03a",
   "metadata": {},
   "source": [
    "## Setup"
   ]
  },
  {
   "cell_type": "code",
   "execution_count": null,
   "id": "f96a777a-3e16-4e18-9efc-75ad156dbdfd",
   "metadata": {},
   "outputs": [],
   "source": [
    "# User input \n",
    "# Input path to results directory from Mad4hatter pipeline\n",
    "results_dir <- \"data/example_mad4hatter_pipeline_output_larger\"\n",
    "# Input path to manifest \n",
    "manifest_file <- \"data/manifest_large_multibatch.csv\"\n",
    "# Path to outputs\n",
    "reprep_repool_summary_path <- \"reprep_repool_summary.csv\""
   ]
  },
  {
   "cell_type": "code",
   "execution_count": null,
   "id": "e84351ee-7c19-4f8d-8f2a-81b56415c403",
   "metadata": {},
   "outputs": [],
   "source": [
    "# Input a threshold for the reads needed to classify a locus as having amplified successfully\n",
    "read_threshold <- 100\n",
    "# Input a minimum Reads per ASV used as a filter for the positive control plot\n",
    "read_filter <- 1 \n",
    "# Minimum Allele Frequency per ASV used as a filter for positive control plot \n",
    "af_filter <- 0.2\n",
    "# Proportion of targets successfully amplified; samples below this threshold require re-prep\n",
    "reprep_threshold <- 0.5 \n",
    "# Proportion of targets successfully amplified; samples below this threshold require re-pool\n",
    "repool_threshold <- 0.75"
   ]
  },
  {
   "cell_type": "code",
   "execution_count": null,
   "id": "219ff886-699d-46f3-be89-6f62da957604",
   "metadata": {},
   "outputs": [],
   "source": [
    "# Print summary of user inputs\n",
    "cat(\"Results Directory:\", results_dir, \"\\n\")\n",
    "cat(\"Manifest File:\", manifest_file, \"\\n\")\n",
    "cat(\"Read Threshold for Successful Amplification:\", read_threshold, \"\\n\")\n",
    "cat(\"Minimum Reads per ASV (Positive Control Filter):\", read_filter, \"\\n\")\n",
    "cat(\"Minimum Allele Frequency per ASV (Positive Control Filter):\", af_filter, \"\\n\")"
   ]
  },
  {
   "cell_type": "code",
   "execution_count": null,
   "id": "858221f3-b0b6-4fef-864e-0e153541d75f",
   "metadata": {},
   "outputs": [],
   "source": [
    "sample_coverage_file <- file.path(results_dir,\"sample_coverage.txt\")\n",
    "amplicon_coverage_file <- file.path(results_dir,\"amplicon_coverage.txt\")\n",
    "allele_data_path <- file.path(results_dir, \"allele_data.txt\")"
   ]
  },
  {
   "cell_type": "code",
   "execution_count": null,
   "id": "9e965407-cc6d-4b7f-a9c0-9459c617f524",
   "metadata": {},
   "outputs": [],
   "source": [
    "# Load necessary libraries\n",
    "library(ggplot2)\n",
    "library(dplyr, quietly = TRUE,warn.conflicts = FALSE)\n",
    "library(tidyr)\n",
    "library(ggbeeswarm)\n",
    "library(stringr)\n",
    "library(kableExtra, quietly = TRUE, warn.conflicts = FALSE)"
   ]
  },
  {
   "cell_type": "code",
   "execution_count": null,
   "id": "ec9d83f0-e79a-4aa7-92c6-393f62ec9057",
   "metadata": {},
   "outputs": [],
   "source": [
    "manifest <- read.csv(manifest_file)\n",
    "sample_coverage <- read.csv(sample_coverage_file, sep=\"\\t\")\n",
    "allele_data <- read.csv(allele_data_path, sep='\\t')"
   ]
  },
  {
   "cell_type": "code",
   "execution_count": null,
   "id": "6e5822c4-14ef-480c-99c8-9165cd4f2adf",
   "metadata": {},
   "outputs": [],
   "source": [
    "# Load coverage per amplicon and add on amplicon length\n",
    "amplicon_coverage <- read.delim(amplicon_coverage_file)"
   ]
  },
  {
   "cell_type": "code",
   "execution_count": null,
   "id": "78da890e-4d1b-41a1-b5a4-4d8afef8915c",
   "metadata": {},
   "outputs": [],
   "source": [
    "# Remove species loci\n",
    "amplicon_coverage <- amplicon_coverage %>%\n",
    "  filter(!grepl(\"-1AB$\", Locus))\n",
    "allele_data <- allele_data %>% \n",
    "    filter(!grepl(\"-1AB$\", Locus))"
   ]
  },
  {
   "cell_type": "code",
   "execution_count": null,
   "id": "ea886284-4a99-469c-bb01-d982bafbab94",
   "metadata": {},
   "outputs": [],
   "source": [
    "merge_data <- function(manifest, sample_coverage) {\n",
    "    merged_data <- sample_coverage %>%\n",
    "        mutate(Reads = as.numeric(Reads)) %>% \n",
    "        replace_na(list(Reads = 0)) %>%\n",
    "        pivot_wider(names_from = Stage, values_from = Reads) %>%\n",
    "        left_join(manifest, by = \"SampleID\") \n",
    "  \n",
    "    return(merged_data)\n",
    "}"
   ]
  },
  {
   "cell_type": "code",
   "execution_count": null,
   "id": "f47b2a18-7aa7-42dd-93ea-dadedf715ff6",
   "metadata": {},
   "outputs": [],
   "source": [
    "# Reformat sample_coverage and add sample information from manifest \n",
    "sample_coverage_with_manifest <- merge_data(manifest, sample_coverage)"
   ]
  },
  {
   "cell_type": "code",
   "execution_count": null,
   "id": "e2c0b518-f6cc-4da7-83f7-33fff1fcba18",
   "metadata": {},
   "outputs": [],
   "source": [
    "# Add Columns to amplicons to specify experiment, SampleType\n",
    "amplicon_coverage_with_manifest = amplicon_coverage %>%\n",
    "  left_join(manifest,by = c(\"SampleID\"))"
   ]
  },
  {
   "cell_type": "code",
   "execution_count": null,
   "id": "67995bb7-d1a4-4d52-8c5c-57e5205f9844",
   "metadata": {},
   "outputs": [],
   "source": [
    "# Add reaction to amplicon table \n",
    "# reaction here refers to 1 of the 2 mPCR reactions reaction1 : 1A+5, reaction2 : 2.\n",
    "# Note: in future versions of the pipeline this may have to come from the panel information, not the locus name \n",
    "amplicon_coverage_with_manifest <- amplicon_coverage_with_manifest %>%\n",
    "  mutate(reaction = str_extract(Locus, \"\\\\d(?=[A-Z]*$)\"))"
   ]
  },
  {
   "cell_type": "code",
   "execution_count": null,
   "id": "627016cc-1e02-4ac3-8eee-f4600139f911",
   "metadata": {},
   "outputs": [],
   "source": [
    "# Create sample summary stats \n",
    "summary_samples <- amplicon_coverage_with_manifest %>%\n",
    "  # Count unique loci per reaction\n",
    "  group_by(reaction) %>%\n",
    "  mutate(nreactionloci = n_distinct(Locus)) %>%\n",
    "  ungroup() %>%\n",
    "  # Calculate number of loci with reads over threshold per reaction\n",
    "  group_by(SampleID, Batch, SampleType, reaction, nreactionloci) %>%\n",
    "  summarize(\n",
    "    reads_per_reaction = sum(OutputPostprocessing),\n",
    "    n_good_loci = sum(OutputPostprocessing > read_threshold),\n",
    "    .groups = \"drop\"\n",
    "  ) %>%\n",
    "    group_by(SampleID, Batch, SampleType) %>%\n",
    "      mutate(\n",
    "        reads_per_sample = sum(reads_per_reaction),\n",
    "      ) %>%\n",
    "  ungroup() %>%\n",
    "  mutate(prop_good_loci = n_good_loci / nreactionloci) %>%\n",
    "  left_join(manifest, by = join_by(SampleID, Batch, SampleType))"
   ]
  },
  {
   "cell_type": "code",
   "execution_count": null,
   "id": "611a5448-e262-4b5e-83f9-6c0fce90631e",
   "metadata": {},
   "outputs": [],
   "source": [
    "# Plotting Setup\n",
    "sample_colours <- c(\n",
    "  \"negative\" = \"red3\",\n",
    "  \"positive\" = \"blue3\",\n",
    "  \"sample\" = \"darkgrey\",\n",
    "  \"NA\" = \"white\"\n",
    ")"
   ]
  },
  {
   "cell_type": "markdown",
   "id": "a47051bd-8e27-4913-9505-b11cc670379f",
   "metadata": {},
   "source": [
    "## Primer Dimer Content\n",
    "\n",
    "Here we visualise the proportion of sequencing reads that are classified as primer dimers, which occur when primers anneal to each other instead of the target DNA. This plot is useful for assessing the efficiency of the amplification process, as high primer dimer levels can indicate suboptimal reaction conditions, reduced sequencing efficiency, and potential issues with sample quality or reagent performance."
   ]
  },
  {
   "cell_type": "code",
   "execution_count": null,
   "id": "7b174d44-f2a7-4fd5-b5f8-aa7f9660d5de",
   "metadata": {},
   "outputs": [],
   "source": [
    "# Function to generate the plot\n",
    "generate_dimer_plot <- function(sample_coverage_with_manifest, sample_colours) {\n",
    "    dimer_plot <- ggplot(data = sample_coverage_with_manifest) +\n",
    "      # Plot points with different colors for each sample type\n",
    "      geom_point(aes(x = Input + 0.9, \n",
    "                     y = (1 - OutputPostprocessing / Input) * 100, \n",
    "                     color = SampleType),\n",
    "                 stroke = 1) +\n",
    "    # Log scale for the x-axis\n",
    "    scale_x_log10() +\n",
    "    # Faceting by Batch column\n",
    "    facet_wrap(~Batch) +\n",
    "    # Adding labels and title\n",
    "    ylab(\"% Dimers\") +\n",
    "    xlab(\"Input Reads\") +\n",
    "    ggtitle(\"Dimer Content\")+\n",
    "    # Color scale for SampleType\n",
    "    scale_color_manual(values = sample_colours) \n",
    "    print(dimer_plot)\n",
    "}"
   ]
  },
  {
   "cell_type": "code",
   "execution_count": null,
   "id": "bc9e1b67-15ff-44eb-bf56-324572df01a8",
   "metadata": {},
   "outputs": [],
   "source": [
    "generate_dimer_plot(sample_coverage_with_manifest, sample_colours)"
   ]
  },
  {
   "cell_type": "markdown",
   "id": "fcc14277-8458-4182-8c26-f0c91a34de08",
   "metadata": {},
   "source": [
    "## Balancing Across Batches\n",
    "\n",
    "Here we show the distribution of total reads per sample across different batches, helping to assess whether sequencing depth is consistent. This plot is useful when you have multiple batches in the same sequencing run to identify imbalances in sequencing, which can arise due to variations in library preparation, loading efficiency, or sequencing conditions."
   ]
  },
  {
   "cell_type": "code",
   "execution_count": null,
   "id": "1135599d-eb31-4b96-9784-eee3ff6de9bc",
   "metadata": {},
   "outputs": [],
   "source": [
    "generate_balancing_plot <- function(summary_samples, sample_colours) {\n",
    "  ggplot() + \n",
    "    ggbeeswarm::geom_quasirandom(\n",
    "    data = summary_samples %>% \n",
    "        select(SampleID, Batch, reads_per_sample, SampleType) %>% \n",
    "        distinct(), \n",
    "    aes(x = Batch, y = reads_per_sample + 0.9, color = SampleType)\n",
    "    ) +\n",
    "    scale_y_log10() +\n",
    "    scale_color_manual(values = sample_colours) +\n",
    "    ylab(\"Total Reads for Sample\") +\n",
    "    ggtitle(\"Balancing Across Batches\")\n",
    "}"
   ]
  },
  {
   "cell_type": "code",
   "execution_count": null,
   "id": "4fca5327-45b6-45f4-9333-658f803de8b0",
   "metadata": {},
   "outputs": [],
   "source": [
    "generate_balancing_plot(summary_samples, sample_colours)"
   ]
  },
  {
   "cell_type": "markdown",
   "id": "df85fa94-3c7f-4cfe-b1ba-72f33532e6cc",
   "metadata": {},
   "source": [
    "## Control Summary\n",
    "\n",
    "### Polyclonality of Positive Controls\n",
    "\n",
    "Here we inspect the positive controls, ensuring that the positive controls perform as expected without contamination or unwanted diversity. For example, if the control you included was monoclonal you would expect little to no loci reported as having more than one allele (polyclonal). In some cases you may allow for some level of false positive detection within a monoclonal control, these filters "
   ]
  },
  {
   "cell_type": "code",
   "execution_count": null,
   "id": "261f48a2-5144-4186-96f6-bf26c21938fd",
   "metadata": {},
   "outputs": [],
   "source": [
    "# Add on within sample allele freqeucny \n",
    "allele_data <- allele_data %>%\n",
    "  group_by(SampleID, Locus) %>%\n",
    "  mutate(AlleleFreq = Reads / sum(Reads)) %>%\n",
    "  ungroup()"
   ]
  },
  {
   "cell_type": "code",
   "execution_count": null,
   "id": "b7491fb5-6241-4be6-bdae-ce53af880afe",
   "metadata": {},
   "outputs": [],
   "source": [
    "pos_control_allele_data <- allele_data %>%\n",
    "  inner_join(manifest %>% filter(SampleType == \"positive\"), by = \"SampleID\")"
   ]
  },
  {
   "cell_type": "code",
   "execution_count": null,
   "id": "69c996eb-45df-4767-93e5-e2b16f5f036b",
   "metadata": {},
   "outputs": [],
   "source": [
    "# Define allele_col\n",
    "allele_col <- \"PseudoCIGAR\"  # This can be changed dynamically\n",
    "\n",
    "if (allele_col==\"PseudoCIGAR\") {\n",
    "  pos_control_data <- pos_control_allele_data %>%\n",
    "      group_by(SampleID, Locus, PseudoCIGAR) %>%\n",
    "      summarise(Reads = sum(Reads), AlleleFreq = sum(AlleleFreq), .groups = \"drop\")\n",
    "} else {\n",
    "  pos_control_data <- pos_control_allele_data\n",
    "}"
   ]
  },
  {
   "cell_type": "code",
   "execution_count": null,
   "id": "fc796e19-f61b-4dce-bc81-09ea512e877b",
   "metadata": {},
   "outputs": [],
   "source": [
    "# Define thresholds\n",
    "# Identify ASVs meeting both thresholds\n",
    "locus_summary <- pos_control_data %>%\n",
    "  group_by(SampleID, Locus) %>%\n",
    "  summarise(\n",
    "    NumASVs_Meeting_Threshold = sum(Reads > read_filter & AlleleFreq > af_filter),\n",
    "    .groups = \"drop\"\n",
    "  ) %>%\n",
    "  mutate(Meets_Multi_ASV_Criteria = NumASVs_Meeting_Threshold > 1)\n",
    "\n",
    "# Count loci per sample that meet and don't meet the threshold\n",
    "result <- locus_summary %>%\n",
    "  group_by(SampleID) %>%\n",
    "  summarise(\n",
    "    loci_poly = sum(Meets_Multi_ASV_Criteria),  # Loci with >1 ASV meeting the threshold\n",
    "    loci_mono = sum(!Meets_Multi_ASV_Criteria)  # Loci that don't\n",
    "  ) %>%\n",
    "  pivot_longer(cols = starts_with(\"Loci_\"), names_to = \"Category\", values_to = \"Count\") %>%\n",
    "  mutate(Category = recode(Category, \n",
    "                           \"loci_poly\" = \"Polyclonal\", \n",
    "                           \"loci_mono\" = \"Monoclonal\"))\n",
    "\n",
    "# Create stacked bar plot\n",
    "ggplot(result, aes(x = SampleID, y = Count, fill = Category)) +\n",
    "  geom_bar(stat = \"identity\", position = \"stack\") +\n",
    "  labs(title = \"Clonality of Loci for Positive Controls\", x = \"Sample ID\", y = \"Number of Loci\") +\n",
    "  theme_minimal() +\n",
    "  scale_fill_manual(values = c(\"Polyclonal\" = \"steelblue\", \"Monoclonal\" = \"gray70\"))\n"
   ]
  },
  {
   "cell_type": "markdown",
   "id": "62571b29-a1fd-4c42-867b-9ec7c68237fc",
   "metadata": {},
   "source": [
    "### Negative Control Contamination \n",
    "\n",
    "#### Read Summary per Negative Control\n",
    "In an ideal scenario, negative controls should have minimal or no amplification. If a negative control shows a high number of targets amplified with significant reads, it suggests potential contamination. By plotting the number of reads against the number of targets for each sample, any outliers or unexpected amplification in negative controls can be easily flagged."
   ]
  },
  {
   "cell_type": "code",
   "execution_count": null,
   "id": "8e191da7-c6d8-4082-aa5a-9fb99aa0ae09",
   "metadata": {},
   "outputs": [],
   "source": [
    "# retrieve negative controls from amplicons.full\n",
    "amplicons_negative = amplicon_coverage_with_manifest %>% \n",
    "  filter(SampleType==\"negative\") %>% \n",
    "  mutate(negative = paste0(Batch,\" Well: \",toupper(Row),Column)) "
   ]
  },
  {
   "cell_type": "code",
   "execution_count": null,
   "id": "e352a0e7-4b2c-4af2-9326-1289bcabe154",
   "metadata": {},
   "outputs": [],
   "source": [
    "ggplot(amplicons_negative) +\n",
    "  geom_histogram(aes(x = OutputPostprocessing))+#, fill = Pool)) +\n",
    "  facet_wrap(~ negative) +\n",
    "  xlim(-ifelse(\n",
    "    max(amplicons_negative$OutputPostprocessing) == 0,\n",
    "    1e2,\n",
    "    max(amplicons_negative$OutputPostprocessing)\n",
    "  ) / 50, ifelse(\n",
    "    max(amplicons_negative$OutputPostprocessing) == 0,\n",
    "    1e2,\n",
    "    max(amplicons_negative$OutputPostprocessing)\n",
    "  )) +\n",
    "  xlab(\"Reads\") +\n",
    "  ylab(\"Count\")"
   ]
  },
  {
   "cell_type": "markdown",
   "id": "f2dce911-6902-45f6-9f26-8cc8c3b376b9",
   "metadata": {},
   "source": [
    "#### Aggregated Reads per Target\n",
    "\n",
    "This plot aggregates the total reads for each locus across all negative controls. In negative controls, if there is an unexpected spike in reads for specific loci, it could indicate contamination in the form of cross-sample contamination or environmental contamination. Analyzing these total summed reads helps pinpoint specific loci where contamination might have occurred, offering insights into which steps in the process might have introduced contaminants."
   ]
  },
  {
   "cell_type": "code",
   "execution_count": null,
   "id": "ce0b4875-c9a7-46e9-ac7e-9f1b7b86cf9f",
   "metadata": {},
   "outputs": [],
   "source": [
    "# Summarize the data by summing reads for each Locus per Batch\n",
    "summary_data <- amplicons_negative %>%\n",
    "  group_by(reaction, Locus) %>%\n",
    "  summarise(sum_reads = sum(Reads, na.rm = TRUE)) %>%\n",
    "  ungroup()  # Remove the grouping for further operations\n",
    "\n",
    "# Create the bar plot\n",
    "ggplot(summary_data, aes(y = Locus, x = sum_reads, fill = reaction)) +\n",
    "  geom_bar(stat = \"identity\", position = \"dodge\") +  # Bar plot with 'sum_reads' on the y-axis\n",
    "  xlab(\"Sum of Sample Reads\") +  # Label for the x-axis\n",
    "  ylab(\"Locus\") +  # Label for the y-axis\n",
    "  ggtitle(\"Total Reads per Locus Across Negative Controls\") +  # Title of the plot\n",
    "  theme(axis.text.x = element_text(angle = 90, hjust = 1), # Rotate x-axis labels if needed\n",
    "        plot.margin = margin(0, 0, 0, 0, \"cm\"),  # Increase the plot's margin to make it wider\n",
    "        axis.text = element_text(size = 2),  # Optional: adjust text size\n",
    "        axis.title = element_text(size = 12)) +\n",
    "  scale_fill_manual(values = c(\"steelblue\", \"orange\", \"green\", \"purple\"))  # Customize colors per Batch (optional)\n",
    "    "
   ]
  },
  {
   "cell_type": "markdown",
   "id": "9d30a87f-7176-46b2-8820-a84670160c0c",
   "metadata": {},
   "source": [
    "## Successul Amplification"
   ]
  },
  {
   "cell_type": "markdown",
   "id": "568ba4a4-22ae-406b-a244-260140acccad",
   "metadata": {},
   "source": [
    "### Parasitemia vs. Number of Successfully Amplified Loci\n",
    "This plot examines the relationship between a sample's parasitemia (qPCR-determined parasite load) and the number of loci that successfully amplified. This plot helps assess whether lower parasitemia samples struggle with amplification, which can indicate potential limitations in sensitivity."
   ]
  },
  {
   "cell_type": "code",
   "execution_count": null,
   "id": "027e84cc-5531-4359-9e44-c85a1a90e69a",
   "metadata": {},
   "outputs": [],
   "source": [
    "# Function to generate the plot\n",
    "generate_parasitemia_by_amplification_success_plot <- function(summary_samples, threshold, sample_colours) {\n",
    "    parasitemia_plot <- ggplot(data = summary_samples) +\n",
    "      # Plot points with different colors for each sample type\n",
    "      geom_point(aes(x = Parasitemia + 0.9, \n",
    "                     y = prop_good_loci, \n",
    "                     color = SampleType),\n",
    "                 stroke = 1) +\n",
    "    # Log scale for the x-axis\n",
    "    scale_x_log10() +\n",
    "    # Faceting by Batch column\n",
    "    facet_grid(cols = vars(Batch),rows = vars(reaction),\n",
    "               scale = \"free_y\")+\n",
    "    # Adding labels and title\n",
    "    ylab(paste0(\"Amplicons with >\",threshold,\" reads\")) +\n",
    "    xlab(\"Parasitemia (log10)\") +\n",
    "    theme(axis.text.x = element_text(angle = 90, hjust = 1))+\n",
    "\n",
    "    ggtitle(\"Amplicons with `good` read depth\")+\n",
    "    # Color scale for SampleType\n",
    "    scale_color_manual(values = sample_colours) \n",
    "    print(parasitemia_plot)\n",
    "}"
   ]
  },
  {
   "cell_type": "code",
   "execution_count": null,
   "id": "01c01740-f2e0-47a6-bc35-df646b67fabe",
   "metadata": {},
   "outputs": [],
   "source": [
    "generate_parasitemia_by_amplification_success_plot(summary_samples, read_threshold, sample_colours)"
   ]
  },
  {
   "cell_type": "markdown",
   "id": "53317634-7120-4169-93bd-4df123615e6e",
   "metadata": {},
   "source": [
    "### Sample Reads vs. Number of Successfully Amplified Loci\n",
    "\n",
    "This illustrates the relationship between the total number of reads per sample and the number of loci that passed the amplification threshold for that sample. This plot helps evaluate whether samples with higher read counts achieve better amplification success and can reveal potential issues such as insufficient sequencing depth or inefficient amplification. Ideally, a positive correlation should be observed, where higher read counts result in more successfully amplified loci."
   ]
  },
  {
   "cell_type": "code",
   "execution_count": null,
   "id": "26c7fbd5-0dc5-43bf-8276-fb0a51f0c6ba",
   "metadata": {},
   "outputs": [],
   "source": [
    "# Function to generate the plot\n",
    "generate_reads_by_amplification_success_plot <- function(summary_samples, amplification_threshold, \n",
    "                                                         sample_colours, reprep_threshold, repool_threshold) {\n",
    "    amp_plot <- ggplot(data = summary_samples) +\n",
    "      # Plot points with different colors for each sample type\n",
    "      geom_point(aes(x = reads_per_sample + 0.9,  \n",
    "                     y=prop_good_loci,\n",
    "                     color = SampleType),\n",
    "                 stroke = 1) +\n",
    "    # Log scale for the x-axis\n",
    "    scale_x_log10() +\n",
    "    # Fix y-axis scale from 0 to 1\n",
    "    scale_y_continuous(limits = c(0, 1)) +\n",
    "    # Faceting by Batch column\n",
    "    facet_grid(cols = vars(Batch),rows = vars(reaction),\n",
    "               scale = \"free_y\")+\n",
    "    # Adding labels and title\n",
    "    ylab(paste0(\"Amplicons with >\",amplification_threshold,\" reads\")) +\n",
    "    xlab(\"Total Reads for Sample\") +\n",
    "    theme(axis.text.x = element_text(angle = 90, hjust = 1))+\n",
    "\n",
    "    ggtitle(\"Targets that Amplified Successfully\")+\n",
    "    # Color scale for SampleType\n",
    "    scale_color_manual(values = sample_colours) +\n",
    "    # Add dashed horizontal lines at reprep_threshold and repool_threshold\n",
    "    geom_hline(yintercept = reprep_threshold, linetype = \"dashed\") +\n",
    "    geom_hline(yintercept = repool_threshold, linetype = \"dashed\") +\n",
    "    # Add labels for the horizontal lines\n",
    "    annotate(\"text\", x = min(summary_samples$reads_per_sample, na.rm = TRUE), \n",
    "               y = reprep_threshold, label = \"Reprep\", vjust = -0.5, hjust = 0) +\n",
    "    annotate(\"text\", x = min(summary_samples$reads_per_sample, na.rm = TRUE), \n",
    "               y = repool_threshold, label = \"Repool\", vjust = -0.5, hjust = 0) \n",
    "\n",
    "    print(amp_plot)\n",
    "}"
   ]
  },
  {
   "cell_type": "code",
   "execution_count": null,
   "id": "12bd89b6-b87e-4d9b-b5a1-d5a505e19ccf",
   "metadata": {},
   "outputs": [],
   "source": [
    "generate_reads_by_amplification_success_plot(summary_samples, read_threshold, sample_colours,  reprep_threshold, repool_threshold)"
   ]
  },
  {
   "cell_type": "code",
   "execution_count": null,
   "id": "64a223fb-9e43-4bd3-a9c5-d5e0c9b9cbd2",
   "metadata": {},
   "outputs": [],
   "source": [
    "generate_reprep_repool_table <- function(summary_samples, reprep_threshold, repool_threshold, output_path) {\n",
    "    summary_table <- summary_samples %>%\n",
    "      mutate(Reprep = prop_good_loci < reprep_threshold,\n",
    "             Repool = prop_good_loci < repool_threshold) %>%\n",
    "      select(SampleID, Batch, reaction, Reprep, Repool, reads_per_reaction)\n",
    "    return(summary_table)\n",
    "}\n"
   ]
  },
  {
   "cell_type": "code",
   "execution_count": null,
   "id": "f5e9a8cc-1bbc-4c95-9f0f-8ac1b11e71d4",
   "metadata": {},
   "outputs": [],
   "source": [
    "reprep_repool_summary <- generate_reprep_repool_table(summary_samples, reprep_threshold, repool_threshold, reprep_repool_summary_path)\n",
    "head(reprep_repool_summary) |>\n",
    "  kable() |>\n",
    "  kable_styling(bootstrap_options = c(\"striped\", \"hover\", \"condensed\"))"
   ]
  },
  {
   "cell_type": "code",
   "execution_count": null,
   "id": "c704e87e-72fe-4107-8cd0-7fc121d3c2ae",
   "metadata": {},
   "outputs": [],
   "source": [
    "write.csv(reprep_repool_summary, reprep_repool_summary_path, row.names = FALSE)"
   ]
  },
  {
   "cell_type": "markdown",
   "id": "6ae84c07-93e2-49b4-b588-14746bf31bb7",
   "metadata": {},
   "source": [
    "## Plate Maps"
   ]
  },
  {
   "cell_type": "code",
   "execution_count": null,
   "id": "70d5b6dc-1023-4a67-9eb0-921fc855a3b2",
   "metadata": {},
   "outputs": [],
   "source": [
    "create_plate_template <- function(batches, nrows=8, ncols=12) {\n",
    "    quadrants <-\n",
    "      expand.grid(\n",
    "        Batch = batches,\n",
    "        y = 1:nrows,\n",
    "        x = 1:ncols\n",
    "      ) %>%\n",
    "      mutate(\n",
    "        ymin = y - 0.45,\n",
    "        ymax = y + 0.45,\n",
    "        xmin = x - 0.45,\n",
    "        xmax = x + 0.45\n",
    "      ) %>%\n",
    "      mutate(Row = rev(letters[1:nrows])[y]) %>%\n",
    "      left_join(\n",
    "        summary_samples %>%  select(Batch, Column, Row, SampleType) %>% distinct(),\n",
    "        by = c(\"Batch\", \"x\" = \"Column\", \"Row\" = \"Row\")\n",
    "      )\n",
    "    return(quadrants)\n",
    "}"
   ]
  },
  {
   "cell_type": "code",
   "execution_count": null,
   "id": "80874960-24a2-4db8-83d9-eca28cebcab4",
   "metadata": {},
   "outputs": [],
   "source": [
    "quadrants <- create_plate_template(unique(summary_samples$Batch))"
   ]
  },
  {
   "cell_type": "markdown",
   "id": "29bb6ac8-8fbb-4a79-b636-a4418cb5794d",
   "metadata": {},
   "source": [
    "### Plate Layout\n",
    "\n",
    "The plate layout provides a visual representation of sample organization, including the placement of positive and negative controls. This is allows verification that controls are positioned correctly to validate assay performance with later plots."
   ]
  },
  {
   "cell_type": "code",
   "execution_count": null,
   "id": "b44be002-3aac-47f4-bfb0-3c326ec3a42c",
   "metadata": {},
   "outputs": [],
   "source": [
    "plot_plate_layout <- function(summary_samples, sample_colours) {\n",
    "    plate_layout <- ggplot(summary_samples) +\n",
    "      # Tiles representing sample types, fill based on SampleType\n",
    "      geom_tile(aes(x = Column, y = Row, fill = SampleType), color = \"white\") +\n",
    "      # Facet by Batch\n",
    "      facet_wrap(vars(Batch), scales = \"free\", ncol = 1) +\n",
    "      # Quadrants as rectangles with borders\n",
    "      geom_rect(\n",
    "        data = quadrants,\n",
    "        aes(xmin = xmin, xmax = xmax, ymin = ymin, ymax = ymax),\n",
    "        color = \"black\", fill = NA, linewidth = 1\n",
    "      ) +\n",
    "      # Customizing the x-axis\n",
    "      scale_x_continuous(breaks = 1:12, labels = as.character(1:12)) +\n",
    "    \n",
    "      # Custom fill colors for each SampleType\n",
    "      scale_fill_manual(\n",
    "        values = sample_colours\n",
    "      ) +\n",
    "      # Theming\n",
    "      theme_minimal() +\n",
    "      theme(\n",
    "        axis.text = element_text(size = 12),  \n",
    "        strip.text = element_text(size = 14, face = \"bold\"), \n",
    "        panel.grid = element_blank(),  \n",
    "        plot.title = element_text(size = 16, face = \"bold\", hjust = 0.5),\n",
    "      ) +\n",
    "      # Title for the plot\n",
    "    ggtitle(\"Sample Types and Quadrants Distribution by Batch\")\n",
    "    print(plate_layout)\n",
    "}"
   ]
  },
  {
   "cell_type": "code",
   "execution_count": null,
   "id": "ead7a682-fed9-43ac-a5c3-f3ab85acc749",
   "metadata": {},
   "outputs": [],
   "source": [
    "plot_plate_layout(summary_samples, sample_colours)"
   ]
  },
  {
   "cell_type": "markdown",
   "id": "aa3b800b-22e9-4020-b19c-3e2aae45868e",
   "metadata": {},
   "source": [
    "### Reads Heatmap\n",
    "\n",
    "The reads heatmap provides a visual representation of read distribution across the plate, helping to identify inconsistencies in sequencing efficiency. This can highlight potential issues such as edge effects, batch effects, or pipetting errors that may impact data quality and interpretation."
   ]
  },
  {
   "cell_type": "code",
   "execution_count": null,
   "id": "28efd023-0118-4b7e-9a43-ad7f0cb2a60f",
   "metadata": {},
   "outputs": [],
   "source": [
    "plot_plate_with_feature <- function(summary_samples, sample_colours, fill_param, scale_midpoint) {\n",
    "    plate_heatmap <- ggplot(summary_samples) +\n",
    "      geom_tile(aes(\n",
    "        x = Column,\n",
    "        y = Row,\n",
    "        fill = !!rlang::parse_expr(fill_param),\n",
    "        color = SampleType  # Add color aesthetic for SampleType\n",
    "      ), linewidth = 1.2) +  # Adjust size for outline thickness\n",
    "    \n",
    "      scale_fill_gradient2(\n",
    "        low = \"black\",\n",
    "        mid = \"darkorange4\",\n",
    "        high = \"darkorange\",\n",
    "        midpoint = scale_midpoint,\n",
    "        name = \"log10(reads)\"\n",
    "      ) +\n",
    "      scale_color_manual(\n",
    "          values = sample_colours\n",
    "        ) + \n",
    "      facet_grid(rows = vars(reaction), cols = vars(Batch)) +\n",
    "      geom_rect(\n",
    "        data = quadrants,\n",
    "        aes(\n",
    "          xmin = xmin,\n",
    "          xmax = xmax,\n",
    "          ymin = ymin,\n",
    "          ymax = ymax,\n",
    "        ),\n",
    "        fill = NA,\n",
    "        linewidth = 0.3,\n",
    "        color = \"black\"\n",
    "      ) +\n",
    "\n",
    "        # Theming\n",
    "          theme_minimal() +\n",
    "          theme(\n",
    "            axis.text = element_text(size = 12),  \n",
    "            strip.text = element_text(size = 14, face = \"bold\"), \n",
    "            panel.grid = element_blank(),  \n",
    "            plot.title = element_text(size = 16, face = \"bold\", hjust = 0.5),\n",
    "          ) +\n",
    "      theme(legend.position = \"bottom\", aspect.ratio = 0.66)\n",
    "    print(plate_heatmap)\n",
    "}"
   ]
  },
  {
   "cell_type": "code",
   "execution_count": null,
   "id": "c92e3037-2488-453f-bcb5-48b7139cf4cf",
   "metadata": {},
   "outputs": [],
   "source": [
    "plot_plate_with_feature(summary_samples, sample_colours, \"log10(reads_per_reaction + 0.1)\", 2)"
   ]
  },
  {
   "cell_type": "markdown",
   "id": "b1731a01-970c-4ea7-8f2b-d1e62e851674",
   "metadata": {},
   "source": [
    "### Successful Amplification Heatmap\n",
    "Here we visualise the success rate of amplification across the plate, allowing for the identification of poorly amplified regions or wells. This is useful for assessing the quality of the PCR process, ensuring that loci across all samples are adequately amplified, and helping to spot potential issues with specific wells or sample groups."
   ]
  },
  {
   "cell_type": "code",
   "execution_count": null,
   "id": "fcea501b-9dcb-4031-8a51-c20b385f6324",
   "metadata": {},
   "outputs": [],
   "source": [
    "plot_plate_with_feature(summary_samples, sample_colours, \"prop_good_loci\", 0.5)"
   ]
  }
 ],
 "metadata": {
  "kernelspec": {
   "display_name": "R",
   "language": "R",
   "name": "ir"
  },
  "language_info": {
   "codemirror_mode": "r",
   "file_extension": ".r",
   "mimetype": "text/x-r-source",
   "name": "R",
   "pygments_lexer": "r",
   "version": "4.4.2"
  }
 },
 "nbformat": 4,
 "nbformat_minor": 5
}
